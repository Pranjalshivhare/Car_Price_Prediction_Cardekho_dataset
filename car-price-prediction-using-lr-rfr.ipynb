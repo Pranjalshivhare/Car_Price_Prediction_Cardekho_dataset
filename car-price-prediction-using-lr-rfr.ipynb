{
 "cells": [
  {
   "cell_type": "markdown",
   "id": "a9321a62",
   "metadata": {
    "_cell_guid": "b1076dfc-b9ad-4769-8c92-a6c4dae69d19",
    "_uuid": "8f2839f25d086af736a60e9eeb907d3b93b6e0e5",
    "execution": {
     "iopub.execute_input": "2023-09-06T14:22:30.672640Z",
     "iopub.status.busy": "2023-09-06T14:22:30.672141Z",
     "iopub.status.idle": "2023-09-06T14:22:30.679009Z",
     "shell.execute_reply": "2023-09-06T14:22:30.677874Z",
     "shell.execute_reply.started": "2023-09-06T14:22:30.672599Z"
    },
    "papermill": {
     "duration": 0.021882,
     "end_time": "2023-09-06T15:02:09.848101",
     "exception": false,
     "start_time": "2023-09-06T15:02:09.826219",
     "status": "completed"
    },
    "tags": []
   },
   "source": [
    "# Car Price Prediction  \n",
    "**Goal: We are building a model to predict the price of a car based on various factors. \n",
    "Data set used in this model building pricess is taken from \"Cardekho\" which is  India's leading car search venture that helps users buy cars that are right for them.**\n",
    " **Accuracy of RFR: 85% \n",
    " Accuracy of Linear Regression: 88%**\n"
   ]
  },
  {
   "cell_type": "markdown",
   "id": "d537c931",
   "metadata": {
    "papermill": {
     "duration": 0.020789,
     "end_time": "2023-09-06T15:02:09.890148",
     "exception": false,
     "start_time": "2023-09-06T15:02:09.869359",
     "status": "completed"
    },
    "tags": []
   },
   "source": [
    "**Step1: Importing important/required Libraries.**"
   ]
  },
  {
   "cell_type": "code",
   "execution_count": 1,
   "id": "ea8a6be6",
   "metadata": {
    "execution": {
     "iopub.execute_input": "2023-09-06T15:02:09.934278Z",
     "iopub.status.busy": "2023-09-06T15:02:09.933434Z",
     "iopub.status.idle": "2023-09-06T15:02:11.974323Z",
     "shell.execute_reply": "2023-09-06T15:02:11.973287Z"
    },
    "papermill": {
     "duration": 2.066033,
     "end_time": "2023-09-06T15:02:11.977091",
     "exception": false,
     "start_time": "2023-09-06T15:02:09.911058",
     "status": "completed"
    },
    "tags": []
   },
   "outputs": [
    {
     "ename": "ModuleNotFoundError",
     "evalue": "No module named 'seaborn'",
     "output_type": "error",
     "traceback": [
      "\u001b[1;31m---------------------------------------------------------------------------\u001b[0m",
      "\u001b[1;31mModuleNotFoundError\u001b[0m                       Traceback (most recent call last)",
      "Cell \u001b[1;32mIn[1], line 4\u001b[0m\n\u001b[0;32m      1\u001b[0m \u001b[39m#Pandas is a Python library used for working with data sets. \u001b[39;00m\n\u001b[0;32m      2\u001b[0m \u001b[39m#It has functions for analyzing, cleaning, exploring, and manipulating data.\u001b[39;00m\n\u001b[0;32m      3\u001b[0m \u001b[39mimport\u001b[39;00m \u001b[39mpandas\u001b[39;00m \u001b[39mas\u001b[39;00m \u001b[39mpd\u001b[39;00m\n\u001b[1;32m----> 4\u001b[0m \u001b[39mimport\u001b[39;00m \u001b[39mseaborn\u001b[39;00m \u001b[39mas\u001b[39;00m \u001b[39msns\u001b[39;00m\n\u001b[0;32m      5\u001b[0m \u001b[39mimport\u001b[39;00m \u001b[39mmatplotlib\u001b[39;00m\u001b[39m.\u001b[39;00m\u001b[39mpyplot\u001b[39;00m \u001b[39mas\u001b[39;00m \u001b[39mplt\u001b[39;00m\n",
      "\u001b[1;31mModuleNotFoundError\u001b[0m: No module named 'seaborn'"
     ]
    }
   ],
   "source": [
    "#Pandas is a Python library used for working with data sets. \n",
    "#It has functions for analyzing, cleaning, exploring, and manipulating data.\n",
    "import pandas as pd\n",
    "import seaborn as sns\n",
    "import matplotlib.pyplot as plt\n"
   ]
  },
  {
   "cell_type": "markdown",
   "id": "a5eeac73",
   "metadata": {
    "papermill": {
     "duration": 0.020729,
     "end_time": "2023-09-06T15:02:12.019240",
     "exception": false,
     "start_time": "2023-09-06T15:02:11.998511",
     "status": "completed"
    },
    "tags": []
   },
   "source": [
    "**Step2: Importing the dataset and analysing**"
   ]
  },
  {
   "cell_type": "code",
   "execution_count": 2,
   "id": "7fc29ffb",
   "metadata": {
    "execution": {
     "iopub.execute_input": "2023-09-06T15:02:12.065342Z",
     "iopub.status.busy": "2023-09-06T15:02:12.064530Z",
     "iopub.status.idle": "2023-09-06T15:02:12.096101Z",
     "shell.execute_reply": "2023-09-06T15:02:12.094938Z"
    },
    "papermill": {
     "duration": 0.058446,
     "end_time": "2023-09-06T15:02:12.098592",
     "exception": false,
     "start_time": "2023-09-06T15:02:12.040146",
     "status": "completed"
    },
    "tags": []
   },
   "outputs": [],
   "source": [
    "# Reading and understanding the data\n",
    "df = pd.read_csv('/kaggle/input/vehicle-dataset-from-cardekho/car data.csv')\n"
   ]
  },
  {
   "cell_type": "code",
   "execution_count": 3,
   "id": "7b6ec879",
   "metadata": {
    "execution": {
     "iopub.execute_input": "2023-09-06T15:02:12.143203Z",
     "iopub.status.busy": "2023-09-06T15:02:12.142448Z",
     "iopub.status.idle": "2023-09-06T15:02:12.167796Z",
     "shell.execute_reply": "2023-09-06T15:02:12.166826Z"
    },
    "papermill": {
     "duration": 0.050507,
     "end_time": "2023-09-06T15:02:12.170157",
     "exception": false,
     "start_time": "2023-09-06T15:02:12.119650",
     "status": "completed"
    },
    "tags": []
   },
   "outputs": [
    {
     "data": {
      "text/html": [
       "<div>\n",
       "<style scoped>\n",
       "    .dataframe tbody tr th:only-of-type {\n",
       "        vertical-align: middle;\n",
       "    }\n",
       "\n",
       "    .dataframe tbody tr th {\n",
       "        vertical-align: top;\n",
       "    }\n",
       "\n",
       "    .dataframe thead th {\n",
       "        text-align: right;\n",
       "    }\n",
       "</style>\n",
       "<table border=\"1\" class=\"dataframe\">\n",
       "  <thead>\n",
       "    <tr style=\"text-align: right;\">\n",
       "      <th></th>\n",
       "      <th>Car_Name</th>\n",
       "      <th>Year</th>\n",
       "      <th>Selling_Price</th>\n",
       "      <th>Present_Price</th>\n",
       "      <th>Kms_Driven</th>\n",
       "      <th>Fuel_Type</th>\n",
       "      <th>Seller_Type</th>\n",
       "      <th>Transmission</th>\n",
       "      <th>Owner</th>\n",
       "    </tr>\n",
       "  </thead>\n",
       "  <tbody>\n",
       "    <tr>\n",
       "      <th>0</th>\n",
       "      <td>ritz</td>\n",
       "      <td>2014</td>\n",
       "      <td>3.35</td>\n",
       "      <td>5.59</td>\n",
       "      <td>27000</td>\n",
       "      <td>Petrol</td>\n",
       "      <td>Dealer</td>\n",
       "      <td>Manual</td>\n",
       "      <td>0</td>\n",
       "    </tr>\n",
       "    <tr>\n",
       "      <th>1</th>\n",
       "      <td>sx4</td>\n",
       "      <td>2013</td>\n",
       "      <td>4.75</td>\n",
       "      <td>9.54</td>\n",
       "      <td>43000</td>\n",
       "      <td>Diesel</td>\n",
       "      <td>Dealer</td>\n",
       "      <td>Manual</td>\n",
       "      <td>0</td>\n",
       "    </tr>\n",
       "    <tr>\n",
       "      <th>2</th>\n",
       "      <td>ciaz</td>\n",
       "      <td>2017</td>\n",
       "      <td>7.25</td>\n",
       "      <td>9.85</td>\n",
       "      <td>6900</td>\n",
       "      <td>Petrol</td>\n",
       "      <td>Dealer</td>\n",
       "      <td>Manual</td>\n",
       "      <td>0</td>\n",
       "    </tr>\n",
       "    <tr>\n",
       "      <th>3</th>\n",
       "      <td>wagon r</td>\n",
       "      <td>2011</td>\n",
       "      <td>2.85</td>\n",
       "      <td>4.15</td>\n",
       "      <td>5200</td>\n",
       "      <td>Petrol</td>\n",
       "      <td>Dealer</td>\n",
       "      <td>Manual</td>\n",
       "      <td>0</td>\n",
       "    </tr>\n",
       "    <tr>\n",
       "      <th>4</th>\n",
       "      <td>swift</td>\n",
       "      <td>2014</td>\n",
       "      <td>4.60</td>\n",
       "      <td>6.87</td>\n",
       "      <td>42450</td>\n",
       "      <td>Diesel</td>\n",
       "      <td>Dealer</td>\n",
       "      <td>Manual</td>\n",
       "      <td>0</td>\n",
       "    </tr>\n",
       "  </tbody>\n",
       "</table>\n",
       "</div>"
      ],
      "text/plain": [
       "  Car_Name  Year  Selling_Price  Present_Price  Kms_Driven Fuel_Type  \\\n",
       "0     ritz  2014           3.35           5.59       27000    Petrol   \n",
       "1      sx4  2013           4.75           9.54       43000    Diesel   \n",
       "2     ciaz  2017           7.25           9.85        6900    Petrol   \n",
       "3  wagon r  2011           2.85           4.15        5200    Petrol   \n",
       "4    swift  2014           4.60           6.87       42450    Diesel   \n",
       "\n",
       "  Seller_Type Transmission  Owner  \n",
       "0      Dealer       Manual      0  \n",
       "1      Dealer       Manual      0  \n",
       "2      Dealer       Manual      0  \n",
       "3      Dealer       Manual      0  \n",
       "4      Dealer       Manual      0  "
      ]
     },
     "execution_count": 3,
     "metadata": {},
     "output_type": "execute_result"
    }
   ],
   "source": [
    "df.head()"
   ]
  },
  {
   "cell_type": "code",
   "execution_count": 4,
   "id": "bd6185c6",
   "metadata": {
    "execution": {
     "iopub.execute_input": "2023-09-06T15:02:12.215678Z",
     "iopub.status.busy": "2023-09-06T15:02:12.214331Z",
     "iopub.status.idle": "2023-09-06T15:02:12.222310Z",
     "shell.execute_reply": "2023-09-06T15:02:12.221175Z"
    },
    "papermill": {
     "duration": 0.033616,
     "end_time": "2023-09-06T15:02:12.225170",
     "exception": false,
     "start_time": "2023-09-06T15:02:12.191554",
     "status": "completed"
    },
    "tags": []
   },
   "outputs": [
    {
     "data": {
      "text/plain": [
       "(301, 9)"
      ]
     },
     "execution_count": 4,
     "metadata": {},
     "output_type": "execute_result"
    }
   ],
   "source": [
    "df.shape"
   ]
  },
  {
   "cell_type": "code",
   "execution_count": 5,
   "id": "e2782917",
   "metadata": {
    "execution": {
     "iopub.execute_input": "2023-09-06T15:02:12.271188Z",
     "iopub.status.busy": "2023-09-06T15:02:12.270388Z",
     "iopub.status.idle": "2023-09-06T15:02:12.282111Z",
     "shell.execute_reply": "2023-09-06T15:02:12.280665Z"
    },
    "papermill": {
     "duration": 0.037274,
     "end_time": "2023-09-06T15:02:12.284515",
     "exception": false,
     "start_time": "2023-09-06T15:02:12.247241",
     "status": "completed"
    },
    "tags": []
   },
   "outputs": [
    {
     "name": "stdout",
     "output_type": "stream",
     "text": [
      "['Dealer' 'Individual']\n"
     ]
    }
   ],
   "source": [
    "print(df['Seller_Type'].unique())"
   ]
  },
  {
   "cell_type": "code",
   "execution_count": 6,
   "id": "2087b0d8",
   "metadata": {
    "execution": {
     "iopub.execute_input": "2023-09-06T15:02:12.329394Z",
     "iopub.status.busy": "2023-09-06T15:02:12.329016Z",
     "iopub.status.idle": "2023-09-06T15:02:12.335118Z",
     "shell.execute_reply": "2023-09-06T15:02:12.334099Z"
    },
    "papermill": {
     "duration": 0.032336,
     "end_time": "2023-09-06T15:02:12.338334",
     "exception": false,
     "start_time": "2023-09-06T15:02:12.305998",
     "status": "completed"
    },
    "tags": []
   },
   "outputs": [
    {
     "name": "stdout",
     "output_type": "stream",
     "text": [
      "['Manual' 'Automatic']\n"
     ]
    }
   ],
   "source": [
    "print(df['Transmission'].unique())"
   ]
  },
  {
   "cell_type": "code",
   "execution_count": 7,
   "id": "4d6366f1",
   "metadata": {
    "execution": {
     "iopub.execute_input": "2023-09-06T15:02:12.385019Z",
     "iopub.status.busy": "2023-09-06T15:02:12.384632Z",
     "iopub.status.idle": "2023-09-06T15:02:12.392403Z",
     "shell.execute_reply": "2023-09-06T15:02:12.391212Z"
    },
    "papermill": {
     "duration": 0.034423,
     "end_time": "2023-09-06T15:02:12.394816",
     "exception": false,
     "start_time": "2023-09-06T15:02:12.360393",
     "status": "completed"
    },
    "tags": []
   },
   "outputs": [
    {
     "name": "stdout",
     "output_type": "stream",
     "text": [
      "[2014 2013 2017 2011 2018 2015 2016 2009 2010 2012 2003 2008 2006 2005\n",
      " 2004 2007]\n"
     ]
    }
   ],
   "source": [
    "print(df['Year'].unique())"
   ]
  },
  {
   "cell_type": "code",
   "execution_count": 8,
   "id": "27d4f7b6",
   "metadata": {
    "execution": {
     "iopub.execute_input": "2023-09-06T15:02:12.440194Z",
     "iopub.status.busy": "2023-09-06T15:02:12.439821Z",
     "iopub.status.idle": "2023-09-06T15:02:12.446989Z",
     "shell.execute_reply": "2023-09-06T15:02:12.445121Z"
    },
    "papermill": {
     "duration": 0.032677,
     "end_time": "2023-09-06T15:02:12.449270",
     "exception": false,
     "start_time": "2023-09-06T15:02:12.416593",
     "status": "completed"
    },
    "tags": []
   },
   "outputs": [
    {
     "name": "stdout",
     "output_type": "stream",
     "text": [
      "['Petrol' 'Diesel' 'CNG']\n"
     ]
    }
   ],
   "source": [
    "print(df['Fuel_Type'].unique())"
   ]
  },
  {
   "cell_type": "code",
   "execution_count": 9,
   "id": "a4a39ea0",
   "metadata": {
    "execution": {
     "iopub.execute_input": "2023-09-06T15:02:12.557231Z",
     "iopub.status.busy": "2023-09-06T15:02:12.556816Z",
     "iopub.status.idle": "2023-09-06T15:02:12.563653Z",
     "shell.execute_reply": "2023-09-06T15:02:12.562160Z"
    },
    "papermill": {
     "duration": 0.032603,
     "end_time": "2023-09-06T15:02:12.565957",
     "exception": false,
     "start_time": "2023-09-06T15:02:12.533354",
     "status": "completed"
    },
    "tags": []
   },
   "outputs": [
    {
     "name": "stdout",
     "output_type": "stream",
     "text": [
      "[0 1 3]\n"
     ]
    }
   ],
   "source": [
    "print(df['Owner'].unique())"
   ]
  },
  {
   "cell_type": "code",
   "execution_count": 10,
   "id": "d3f0e967",
   "metadata": {
    "execution": {
     "iopub.execute_input": "2023-09-06T15:02:12.612378Z",
     "iopub.status.busy": "2023-09-06T15:02:12.611977Z",
     "iopub.status.idle": "2023-09-06T15:02:12.636544Z",
     "shell.execute_reply": "2023-09-06T15:02:12.635025Z"
    },
    "papermill": {
     "duration": 0.051072,
     "end_time": "2023-09-06T15:02:12.639031",
     "exception": false,
     "start_time": "2023-09-06T15:02:12.587959",
     "status": "completed"
    },
    "tags": []
   },
   "outputs": [
    {
     "name": "stdout",
     "output_type": "stream",
     "text": [
      "<class 'pandas.core.frame.DataFrame'>\n",
      "RangeIndex: 301 entries, 0 to 300\n",
      "Data columns (total 9 columns):\n",
      " #   Column         Non-Null Count  Dtype  \n",
      "---  ------         --------------  -----  \n",
      " 0   Car_Name       301 non-null    object \n",
      " 1   Year           301 non-null    int64  \n",
      " 2   Selling_Price  301 non-null    float64\n",
      " 3   Present_Price  301 non-null    float64\n",
      " 4   Kms_Driven     301 non-null    int64  \n",
      " 5   Fuel_Type      301 non-null    object \n",
      " 6   Seller_Type    301 non-null    object \n",
      " 7   Transmission   301 non-null    object \n",
      " 8   Owner          301 non-null    int64  \n",
      "dtypes: float64(2), int64(3), object(4)\n",
      "memory usage: 21.3+ KB\n"
     ]
    }
   ],
   "source": [
    "df.info()"
   ]
  },
  {
   "cell_type": "markdown",
   "id": "e1f9f6a0",
   "metadata": {
    "papermill": {
     "duration": 0.021955,
     "end_time": "2023-09-06T15:02:12.683344",
     "exception": false,
     "start_time": "2023-09-06T15:02:12.661389",
     "status": "completed"
    },
    "tags": []
   },
   "source": [
    "**Step3: Cheking Null values.**"
   ]
  },
  {
   "cell_type": "code",
   "execution_count": 11,
   "id": "1f1004d4",
   "metadata": {
    "execution": {
     "iopub.execute_input": "2023-09-06T15:02:12.731119Z",
     "iopub.status.busy": "2023-09-06T15:02:12.730712Z",
     "iopub.status.idle": "2023-09-06T15:02:12.740069Z",
     "shell.execute_reply": "2023-09-06T15:02:12.738880Z"
    },
    "papermill": {
     "duration": 0.036931,
     "end_time": "2023-09-06T15:02:12.742433",
     "exception": false,
     "start_time": "2023-09-06T15:02:12.705502",
     "status": "completed"
    },
    "tags": []
   },
   "outputs": [
    {
     "data": {
      "text/plain": [
       "Car_Name         0\n",
       "Year             0\n",
       "Selling_Price    0\n",
       "Present_Price    0\n",
       "Kms_Driven       0\n",
       "Fuel_Type        0\n",
       "Seller_Type      0\n",
       "Transmission     0\n",
       "Owner            0\n",
       "dtype: int64"
      ]
     },
     "execution_count": 11,
     "metadata": {},
     "output_type": "execute_result"
    }
   ],
   "source": [
    "#missing null values\n",
    "df.isnull().sum()\n",
    "#no null values found"
   ]
  },
  {
   "cell_type": "code",
   "execution_count": 12,
   "id": "16f6813c",
   "metadata": {
    "execution": {
     "iopub.execute_input": "2023-09-06T15:02:12.789966Z",
     "iopub.status.busy": "2023-09-06T15:02:12.789137Z",
     "iopub.status.idle": "2023-09-06T15:02:12.807091Z",
     "shell.execute_reply": "2023-09-06T15:02:12.805797Z"
    },
    "papermill": {
     "duration": 0.044565,
     "end_time": "2023-09-06T15:02:12.809787",
     "exception": false,
     "start_time": "2023-09-06T15:02:12.765222",
     "status": "completed"
    },
    "tags": []
   },
   "outputs": [
    {
     "data": {
      "text/plain": [
       "<bound method NDFrame.describe of     Car_Name  Year  Selling_Price  Present_Price  Kms_Driven Fuel_Type  \\\n",
       "0       ritz  2014           3.35           5.59       27000    Petrol   \n",
       "1        sx4  2013           4.75           9.54       43000    Diesel   \n",
       "2       ciaz  2017           7.25           9.85        6900    Petrol   \n",
       "3    wagon r  2011           2.85           4.15        5200    Petrol   \n",
       "4      swift  2014           4.60           6.87       42450    Diesel   \n",
       "..       ...   ...            ...            ...         ...       ...   \n",
       "296     city  2016           9.50          11.60       33988    Diesel   \n",
       "297     brio  2015           4.00           5.90       60000    Petrol   \n",
       "298     city  2009           3.35          11.00       87934    Petrol   \n",
       "299     city  2017          11.50          12.50        9000    Diesel   \n",
       "300     brio  2016           5.30           5.90        5464    Petrol   \n",
       "\n",
       "    Seller_Type Transmission  Owner  \n",
       "0        Dealer       Manual      0  \n",
       "1        Dealer       Manual      0  \n",
       "2        Dealer       Manual      0  \n",
       "3        Dealer       Manual      0  \n",
       "4        Dealer       Manual      0  \n",
       "..          ...          ...    ...  \n",
       "296      Dealer       Manual      0  \n",
       "297      Dealer       Manual      0  \n",
       "298      Dealer       Manual      0  \n",
       "299      Dealer       Manual      0  \n",
       "300      Dealer       Manual      0  \n",
       "\n",
       "[301 rows x 9 columns]>"
      ]
     },
     "execution_count": 12,
     "metadata": {},
     "output_type": "execute_result"
    }
   ],
   "source": [
    "df.describe"
   ]
  },
  {
   "cell_type": "code",
   "execution_count": 13,
   "id": "02170bc5",
   "metadata": {
    "execution": {
     "iopub.execute_input": "2023-09-06T15:02:12.858174Z",
     "iopub.status.busy": "2023-09-06T15:02:12.857799Z",
     "iopub.status.idle": "2023-09-06T15:02:12.873149Z",
     "shell.execute_reply": "2023-09-06T15:02:12.872276Z"
    },
    "papermill": {
     "duration": 0.042565,
     "end_time": "2023-09-06T15:02:12.875365",
     "exception": false,
     "start_time": "2023-09-06T15:02:12.832800",
     "status": "completed"
    },
    "tags": []
   },
   "outputs": [
    {
     "data": {
      "text/html": [
       "<div>\n",
       "<style scoped>\n",
       "    .dataframe tbody tr th:only-of-type {\n",
       "        vertical-align: middle;\n",
       "    }\n",
       "\n",
       "    .dataframe tbody tr th {\n",
       "        vertical-align: top;\n",
       "    }\n",
       "\n",
       "    .dataframe thead th {\n",
       "        text-align: right;\n",
       "    }\n",
       "</style>\n",
       "<table border=\"1\" class=\"dataframe\">\n",
       "  <thead>\n",
       "    <tr style=\"text-align: right;\">\n",
       "      <th></th>\n",
       "      <th>Car_Name</th>\n",
       "      <th>Year</th>\n",
       "      <th>Selling_Price</th>\n",
       "      <th>Present_Price</th>\n",
       "      <th>Kms_Driven</th>\n",
       "      <th>Fuel_Type</th>\n",
       "      <th>Seller_Type</th>\n",
       "      <th>Transmission</th>\n",
       "      <th>Owner</th>\n",
       "    </tr>\n",
       "  </thead>\n",
       "  <tbody>\n",
       "    <tr>\n",
       "      <th>0</th>\n",
       "      <td>ritz</td>\n",
       "      <td>2014</td>\n",
       "      <td>3.35</td>\n",
       "      <td>5.59</td>\n",
       "      <td>27000</td>\n",
       "      <td>Petrol</td>\n",
       "      <td>Dealer</td>\n",
       "      <td>Manual</td>\n",
       "      <td>0</td>\n",
       "    </tr>\n",
       "    <tr>\n",
       "      <th>1</th>\n",
       "      <td>sx4</td>\n",
       "      <td>2013</td>\n",
       "      <td>4.75</td>\n",
       "      <td>9.54</td>\n",
       "      <td>43000</td>\n",
       "      <td>Diesel</td>\n",
       "      <td>Dealer</td>\n",
       "      <td>Manual</td>\n",
       "      <td>0</td>\n",
       "    </tr>\n",
       "    <tr>\n",
       "      <th>2</th>\n",
       "      <td>ciaz</td>\n",
       "      <td>2017</td>\n",
       "      <td>7.25</td>\n",
       "      <td>9.85</td>\n",
       "      <td>6900</td>\n",
       "      <td>Petrol</td>\n",
       "      <td>Dealer</td>\n",
       "      <td>Manual</td>\n",
       "      <td>0</td>\n",
       "    </tr>\n",
       "    <tr>\n",
       "      <th>3</th>\n",
       "      <td>wagon r</td>\n",
       "      <td>2011</td>\n",
       "      <td>2.85</td>\n",
       "      <td>4.15</td>\n",
       "      <td>5200</td>\n",
       "      <td>Petrol</td>\n",
       "      <td>Dealer</td>\n",
       "      <td>Manual</td>\n",
       "      <td>0</td>\n",
       "    </tr>\n",
       "    <tr>\n",
       "      <th>4</th>\n",
       "      <td>swift</td>\n",
       "      <td>2014</td>\n",
       "      <td>4.60</td>\n",
       "      <td>6.87</td>\n",
       "      <td>42450</td>\n",
       "      <td>Diesel</td>\n",
       "      <td>Dealer</td>\n",
       "      <td>Manual</td>\n",
       "      <td>0</td>\n",
       "    </tr>\n",
       "  </tbody>\n",
       "</table>\n",
       "</div>"
      ],
      "text/plain": [
       "  Car_Name  Year  Selling_Price  Present_Price  Kms_Driven Fuel_Type  \\\n",
       "0     ritz  2014           3.35           5.59       27000    Petrol   \n",
       "1      sx4  2013           4.75           9.54       43000    Diesel   \n",
       "2     ciaz  2017           7.25           9.85        6900    Petrol   \n",
       "3  wagon r  2011           2.85           4.15        5200    Petrol   \n",
       "4    swift  2014           4.60           6.87       42450    Diesel   \n",
       "\n",
       "  Seller_Type Transmission  Owner  \n",
       "0      Dealer       Manual      0  \n",
       "1      Dealer       Manual      0  \n",
       "2      Dealer       Manual      0  \n",
       "3      Dealer       Manual      0  \n",
       "4      Dealer       Manual      0  "
      ]
     },
     "execution_count": 13,
     "metadata": {},
     "output_type": "execute_result"
    }
   ],
   "source": [
    "df.head()"
   ]
  },
  {
   "cell_type": "code",
   "execution_count": 14,
   "id": "0d244266",
   "metadata": {
    "execution": {
     "iopub.execute_input": "2023-09-06T15:02:12.923609Z",
     "iopub.status.busy": "2023-09-06T15:02:12.923202Z",
     "iopub.status.idle": "2023-09-06T15:02:12.930175Z",
     "shell.execute_reply": "2023-09-06T15:02:12.929196Z"
    },
    "papermill": {
     "duration": 0.033715,
     "end_time": "2023-09-06T15:02:12.932435",
     "exception": false,
     "start_time": "2023-09-06T15:02:12.898720",
     "status": "completed"
    },
    "tags": []
   },
   "outputs": [
    {
     "data": {
      "text/plain": [
       "Index(['Car_Name', 'Year', 'Selling_Price', 'Present_Price', 'Kms_Driven',\n",
       "       'Fuel_Type', 'Seller_Type', 'Transmission', 'Owner'],\n",
       "      dtype='object')"
      ]
     },
     "execution_count": 14,
     "metadata": {},
     "output_type": "execute_result"
    }
   ],
   "source": [
    "df.columns"
   ]
  },
  {
   "cell_type": "markdown",
   "id": "46b446ed",
   "metadata": {
    "papermill": {
     "duration": 0.022776,
     "end_time": "2023-09-06T15:02:12.978407",
     "exception": false,
     "start_time": "2023-09-06T15:02:12.955631",
     "status": "completed"
    },
    "tags": []
   },
   "source": [
    "Creating a dataframe named final_dataset that inclues only important columns that impact the output."
   ]
  },
  {
   "cell_type": "markdown",
   "id": "afb60f99",
   "metadata": {
    "papermill": {
     "duration": 0.022756,
     "end_time": "2023-09-06T15:02:13.024514",
     "exception": false,
     "start_time": "2023-09-06T15:02:13.001758",
     "status": "completed"
    },
    "tags": []
   },
   "source": [
    "**Step4: Shorlisting of features that impact the output.**"
   ]
  },
  {
   "cell_type": "code",
   "execution_count": 15,
   "id": "22833b8a",
   "metadata": {
    "execution": {
     "iopub.execute_input": "2023-09-06T15:02:13.072579Z",
     "iopub.status.busy": "2023-09-06T15:02:13.072158Z",
     "iopub.status.idle": "2023-09-06T15:02:13.079982Z",
     "shell.execute_reply": "2023-09-06T15:02:13.078711Z"
    },
    "papermill": {
     "duration": 0.034898,
     "end_time": "2023-09-06T15:02:13.082547",
     "exception": false,
     "start_time": "2023-09-06T15:02:13.047649",
     "status": "completed"
    },
    "tags": []
   },
   "outputs": [],
   "source": [
    "#removing car name as it is not the feature to be considered for price prediction\n",
    "final_dataset = df[['Year', 'Selling_Price', 'Present_Price', 'Kms_Driven',\n",
    "       'Fuel_Type', 'Seller_Type', 'Transmission', 'Owner']]"
   ]
  },
  {
   "cell_type": "code",
   "execution_count": 16,
   "id": "07f51590",
   "metadata": {
    "execution": {
     "iopub.execute_input": "2023-09-06T15:02:13.131258Z",
     "iopub.status.busy": "2023-09-06T15:02:13.130816Z",
     "iopub.status.idle": "2023-09-06T15:02:13.146888Z",
     "shell.execute_reply": "2023-09-06T15:02:13.145897Z"
    },
    "papermill": {
     "duration": 0.043479,
     "end_time": "2023-09-06T15:02:13.149355",
     "exception": false,
     "start_time": "2023-09-06T15:02:13.105876",
     "status": "completed"
    },
    "tags": []
   },
   "outputs": [
    {
     "data": {
      "text/html": [
       "<div>\n",
       "<style scoped>\n",
       "    .dataframe tbody tr th:only-of-type {\n",
       "        vertical-align: middle;\n",
       "    }\n",
       "\n",
       "    .dataframe tbody tr th {\n",
       "        vertical-align: top;\n",
       "    }\n",
       "\n",
       "    .dataframe thead th {\n",
       "        text-align: right;\n",
       "    }\n",
       "</style>\n",
       "<table border=\"1\" class=\"dataframe\">\n",
       "  <thead>\n",
       "    <tr style=\"text-align: right;\">\n",
       "      <th></th>\n",
       "      <th>Year</th>\n",
       "      <th>Selling_Price</th>\n",
       "      <th>Present_Price</th>\n",
       "      <th>Kms_Driven</th>\n",
       "      <th>Fuel_Type</th>\n",
       "      <th>Seller_Type</th>\n",
       "      <th>Transmission</th>\n",
       "      <th>Owner</th>\n",
       "    </tr>\n",
       "  </thead>\n",
       "  <tbody>\n",
       "    <tr>\n",
       "      <th>0</th>\n",
       "      <td>2014</td>\n",
       "      <td>3.35</td>\n",
       "      <td>5.59</td>\n",
       "      <td>27000</td>\n",
       "      <td>Petrol</td>\n",
       "      <td>Dealer</td>\n",
       "      <td>Manual</td>\n",
       "      <td>0</td>\n",
       "    </tr>\n",
       "    <tr>\n",
       "      <th>1</th>\n",
       "      <td>2013</td>\n",
       "      <td>4.75</td>\n",
       "      <td>9.54</td>\n",
       "      <td>43000</td>\n",
       "      <td>Diesel</td>\n",
       "      <td>Dealer</td>\n",
       "      <td>Manual</td>\n",
       "      <td>0</td>\n",
       "    </tr>\n",
       "    <tr>\n",
       "      <th>2</th>\n",
       "      <td>2017</td>\n",
       "      <td>7.25</td>\n",
       "      <td>9.85</td>\n",
       "      <td>6900</td>\n",
       "      <td>Petrol</td>\n",
       "      <td>Dealer</td>\n",
       "      <td>Manual</td>\n",
       "      <td>0</td>\n",
       "    </tr>\n",
       "    <tr>\n",
       "      <th>3</th>\n",
       "      <td>2011</td>\n",
       "      <td>2.85</td>\n",
       "      <td>4.15</td>\n",
       "      <td>5200</td>\n",
       "      <td>Petrol</td>\n",
       "      <td>Dealer</td>\n",
       "      <td>Manual</td>\n",
       "      <td>0</td>\n",
       "    </tr>\n",
       "    <tr>\n",
       "      <th>4</th>\n",
       "      <td>2014</td>\n",
       "      <td>4.60</td>\n",
       "      <td>6.87</td>\n",
       "      <td>42450</td>\n",
       "      <td>Diesel</td>\n",
       "      <td>Dealer</td>\n",
       "      <td>Manual</td>\n",
       "      <td>0</td>\n",
       "    </tr>\n",
       "  </tbody>\n",
       "</table>\n",
       "</div>"
      ],
      "text/plain": [
       "   Year  Selling_Price  Present_Price  Kms_Driven Fuel_Type Seller_Type  \\\n",
       "0  2014           3.35           5.59       27000    Petrol      Dealer   \n",
       "1  2013           4.75           9.54       43000    Diesel      Dealer   \n",
       "2  2017           7.25           9.85        6900    Petrol      Dealer   \n",
       "3  2011           2.85           4.15        5200    Petrol      Dealer   \n",
       "4  2014           4.60           6.87       42450    Diesel      Dealer   \n",
       "\n",
       "  Transmission  Owner  \n",
       "0       Manual      0  \n",
       "1       Manual      0  \n",
       "2       Manual      0  \n",
       "3       Manual      0  \n",
       "4       Manual      0  "
      ]
     },
     "execution_count": 16,
     "metadata": {},
     "output_type": "execute_result"
    }
   ],
   "source": [
    "final_dataset.head()\n"
   ]
  },
  {
   "cell_type": "code",
   "execution_count": 17,
   "id": "82f88618",
   "metadata": {
    "execution": {
     "iopub.execute_input": "2023-09-06T15:02:13.198574Z",
     "iopub.status.busy": "2023-09-06T15:02:13.198163Z",
     "iopub.status.idle": "2023-09-06T15:02:13.203688Z",
     "shell.execute_reply": "2023-09-06T15:02:13.202316Z"
    },
    "papermill": {
     "duration": 0.033557,
     "end_time": "2023-09-06T15:02:13.206500",
     "exception": false,
     "start_time": "2023-09-06T15:02:13.172943",
     "status": "completed"
    },
    "tags": []
   },
   "outputs": [],
   "source": [
    "final_dataset['Current_year'] = 2023"
   ]
  },
  {
   "cell_type": "code",
   "execution_count": 18,
   "id": "adc79dbc",
   "metadata": {
    "execution": {
     "iopub.execute_input": "2023-09-06T15:02:13.256204Z",
     "iopub.status.busy": "2023-09-06T15:02:13.255053Z",
     "iopub.status.idle": "2023-09-06T15:02:13.271494Z",
     "shell.execute_reply": "2023-09-06T15:02:13.270330Z"
    },
    "papermill": {
     "duration": 0.043732,
     "end_time": "2023-09-06T15:02:13.273962",
     "exception": false,
     "start_time": "2023-09-06T15:02:13.230230",
     "status": "completed"
    },
    "tags": []
   },
   "outputs": [
    {
     "data": {
      "text/html": [
       "<div>\n",
       "<style scoped>\n",
       "    .dataframe tbody tr th:only-of-type {\n",
       "        vertical-align: middle;\n",
       "    }\n",
       "\n",
       "    .dataframe tbody tr th {\n",
       "        vertical-align: top;\n",
       "    }\n",
       "\n",
       "    .dataframe thead th {\n",
       "        text-align: right;\n",
       "    }\n",
       "</style>\n",
       "<table border=\"1\" class=\"dataframe\">\n",
       "  <thead>\n",
       "    <tr style=\"text-align: right;\">\n",
       "      <th></th>\n",
       "      <th>Year</th>\n",
       "      <th>Selling_Price</th>\n",
       "      <th>Present_Price</th>\n",
       "      <th>Kms_Driven</th>\n",
       "      <th>Fuel_Type</th>\n",
       "      <th>Seller_Type</th>\n",
       "      <th>Transmission</th>\n",
       "      <th>Owner</th>\n",
       "      <th>Current_year</th>\n",
       "    </tr>\n",
       "  </thead>\n",
       "  <tbody>\n",
       "    <tr>\n",
       "      <th>0</th>\n",
       "      <td>2014</td>\n",
       "      <td>3.35</td>\n",
       "      <td>5.59</td>\n",
       "      <td>27000</td>\n",
       "      <td>Petrol</td>\n",
       "      <td>Dealer</td>\n",
       "      <td>Manual</td>\n",
       "      <td>0</td>\n",
       "      <td>2023</td>\n",
       "    </tr>\n",
       "    <tr>\n",
       "      <th>1</th>\n",
       "      <td>2013</td>\n",
       "      <td>4.75</td>\n",
       "      <td>9.54</td>\n",
       "      <td>43000</td>\n",
       "      <td>Diesel</td>\n",
       "      <td>Dealer</td>\n",
       "      <td>Manual</td>\n",
       "      <td>0</td>\n",
       "      <td>2023</td>\n",
       "    </tr>\n",
       "    <tr>\n",
       "      <th>2</th>\n",
       "      <td>2017</td>\n",
       "      <td>7.25</td>\n",
       "      <td>9.85</td>\n",
       "      <td>6900</td>\n",
       "      <td>Petrol</td>\n",
       "      <td>Dealer</td>\n",
       "      <td>Manual</td>\n",
       "      <td>0</td>\n",
       "      <td>2023</td>\n",
       "    </tr>\n",
       "    <tr>\n",
       "      <th>3</th>\n",
       "      <td>2011</td>\n",
       "      <td>2.85</td>\n",
       "      <td>4.15</td>\n",
       "      <td>5200</td>\n",
       "      <td>Petrol</td>\n",
       "      <td>Dealer</td>\n",
       "      <td>Manual</td>\n",
       "      <td>0</td>\n",
       "      <td>2023</td>\n",
       "    </tr>\n",
       "    <tr>\n",
       "      <th>4</th>\n",
       "      <td>2014</td>\n",
       "      <td>4.60</td>\n",
       "      <td>6.87</td>\n",
       "      <td>42450</td>\n",
       "      <td>Diesel</td>\n",
       "      <td>Dealer</td>\n",
       "      <td>Manual</td>\n",
       "      <td>0</td>\n",
       "      <td>2023</td>\n",
       "    </tr>\n",
       "  </tbody>\n",
       "</table>\n",
       "</div>"
      ],
      "text/plain": [
       "   Year  Selling_Price  Present_Price  Kms_Driven Fuel_Type Seller_Type  \\\n",
       "0  2014           3.35           5.59       27000    Petrol      Dealer   \n",
       "1  2013           4.75           9.54       43000    Diesel      Dealer   \n",
       "2  2017           7.25           9.85        6900    Petrol      Dealer   \n",
       "3  2011           2.85           4.15        5200    Petrol      Dealer   \n",
       "4  2014           4.60           6.87       42450    Diesel      Dealer   \n",
       "\n",
       "  Transmission  Owner  Current_year  \n",
       "0       Manual      0          2023  \n",
       "1       Manual      0          2023  \n",
       "2       Manual      0          2023  \n",
       "3       Manual      0          2023  \n",
       "4       Manual      0          2023  "
      ]
     },
     "execution_count": 18,
     "metadata": {},
     "output_type": "execute_result"
    }
   ],
   "source": [
    "final_dataset.head()"
   ]
  },
  {
   "cell_type": "code",
   "execution_count": 19,
   "id": "447bb743",
   "metadata": {
    "execution": {
     "iopub.execute_input": "2023-09-06T15:02:13.323387Z",
     "iopub.status.busy": "2023-09-06T15:02:13.322991Z",
     "iopub.status.idle": "2023-09-06T15:02:13.329569Z",
     "shell.execute_reply": "2023-09-06T15:02:13.328157Z"
    },
    "papermill": {
     "duration": 0.03419,
     "end_time": "2023-09-06T15:02:13.332039",
     "exception": false,
     "start_time": "2023-09-06T15:02:13.297849",
     "status": "completed"
    },
    "tags": []
   },
   "outputs": [],
   "source": [
    "final_dataset['No_year'] = final_dataset['Current_year'] - final_dataset['Year']"
   ]
  },
  {
   "cell_type": "code",
   "execution_count": 20,
   "id": "0605e3b0",
   "metadata": {
    "execution": {
     "iopub.execute_input": "2023-09-06T15:02:13.382127Z",
     "iopub.status.busy": "2023-09-06T15:02:13.381720Z",
     "iopub.status.idle": "2023-09-06T15:02:13.398698Z",
     "shell.execute_reply": "2023-09-06T15:02:13.397501Z"
    },
    "papermill": {
     "duration": 0.044723,
     "end_time": "2023-09-06T15:02:13.401162",
     "exception": false,
     "start_time": "2023-09-06T15:02:13.356439",
     "status": "completed"
    },
    "tags": []
   },
   "outputs": [
    {
     "data": {
      "text/html": [
       "<div>\n",
       "<style scoped>\n",
       "    .dataframe tbody tr th:only-of-type {\n",
       "        vertical-align: middle;\n",
       "    }\n",
       "\n",
       "    .dataframe tbody tr th {\n",
       "        vertical-align: top;\n",
       "    }\n",
       "\n",
       "    .dataframe thead th {\n",
       "        text-align: right;\n",
       "    }\n",
       "</style>\n",
       "<table border=\"1\" class=\"dataframe\">\n",
       "  <thead>\n",
       "    <tr style=\"text-align: right;\">\n",
       "      <th></th>\n",
       "      <th>Year</th>\n",
       "      <th>Selling_Price</th>\n",
       "      <th>Present_Price</th>\n",
       "      <th>Kms_Driven</th>\n",
       "      <th>Fuel_Type</th>\n",
       "      <th>Seller_Type</th>\n",
       "      <th>Transmission</th>\n",
       "      <th>Owner</th>\n",
       "      <th>Current_year</th>\n",
       "      <th>No_year</th>\n",
       "    </tr>\n",
       "  </thead>\n",
       "  <tbody>\n",
       "    <tr>\n",
       "      <th>0</th>\n",
       "      <td>2014</td>\n",
       "      <td>3.35</td>\n",
       "      <td>5.59</td>\n",
       "      <td>27000</td>\n",
       "      <td>Petrol</td>\n",
       "      <td>Dealer</td>\n",
       "      <td>Manual</td>\n",
       "      <td>0</td>\n",
       "      <td>2023</td>\n",
       "      <td>9</td>\n",
       "    </tr>\n",
       "    <tr>\n",
       "      <th>1</th>\n",
       "      <td>2013</td>\n",
       "      <td>4.75</td>\n",
       "      <td>9.54</td>\n",
       "      <td>43000</td>\n",
       "      <td>Diesel</td>\n",
       "      <td>Dealer</td>\n",
       "      <td>Manual</td>\n",
       "      <td>0</td>\n",
       "      <td>2023</td>\n",
       "      <td>10</td>\n",
       "    </tr>\n",
       "    <tr>\n",
       "      <th>2</th>\n",
       "      <td>2017</td>\n",
       "      <td>7.25</td>\n",
       "      <td>9.85</td>\n",
       "      <td>6900</td>\n",
       "      <td>Petrol</td>\n",
       "      <td>Dealer</td>\n",
       "      <td>Manual</td>\n",
       "      <td>0</td>\n",
       "      <td>2023</td>\n",
       "      <td>6</td>\n",
       "    </tr>\n",
       "    <tr>\n",
       "      <th>3</th>\n",
       "      <td>2011</td>\n",
       "      <td>2.85</td>\n",
       "      <td>4.15</td>\n",
       "      <td>5200</td>\n",
       "      <td>Petrol</td>\n",
       "      <td>Dealer</td>\n",
       "      <td>Manual</td>\n",
       "      <td>0</td>\n",
       "      <td>2023</td>\n",
       "      <td>12</td>\n",
       "    </tr>\n",
       "    <tr>\n",
       "      <th>4</th>\n",
       "      <td>2014</td>\n",
       "      <td>4.60</td>\n",
       "      <td>6.87</td>\n",
       "      <td>42450</td>\n",
       "      <td>Diesel</td>\n",
       "      <td>Dealer</td>\n",
       "      <td>Manual</td>\n",
       "      <td>0</td>\n",
       "      <td>2023</td>\n",
       "      <td>9</td>\n",
       "    </tr>\n",
       "  </tbody>\n",
       "</table>\n",
       "</div>"
      ],
      "text/plain": [
       "   Year  Selling_Price  Present_Price  Kms_Driven Fuel_Type Seller_Type  \\\n",
       "0  2014           3.35           5.59       27000    Petrol      Dealer   \n",
       "1  2013           4.75           9.54       43000    Diesel      Dealer   \n",
       "2  2017           7.25           9.85        6900    Petrol      Dealer   \n",
       "3  2011           2.85           4.15        5200    Petrol      Dealer   \n",
       "4  2014           4.60           6.87       42450    Diesel      Dealer   \n",
       "\n",
       "  Transmission  Owner  Current_year  No_year  \n",
       "0       Manual      0          2023        9  \n",
       "1       Manual      0          2023       10  \n",
       "2       Manual      0          2023        6  \n",
       "3       Manual      0          2023       12  \n",
       "4       Manual      0          2023        9  "
      ]
     },
     "execution_count": 20,
     "metadata": {},
     "output_type": "execute_result"
    }
   ],
   "source": [
    "final_dataset.head()"
   ]
  },
  {
   "cell_type": "code",
   "execution_count": 21,
   "id": "cf2b9549",
   "metadata": {
    "execution": {
     "iopub.execute_input": "2023-09-06T15:02:13.451616Z",
     "iopub.status.busy": "2023-09-06T15:02:13.450733Z",
     "iopub.status.idle": "2023-09-06T15:02:13.457680Z",
     "shell.execute_reply": "2023-09-06T15:02:13.456525Z"
    },
    "papermill": {
     "duration": 0.035068,
     "end_time": "2023-09-06T15:02:13.460327",
     "exception": false,
     "start_time": "2023-09-06T15:02:13.425259",
     "status": "completed"
    },
    "tags": []
   },
   "outputs": [],
   "source": [
    "final_dataset.drop(['Year'], axis=1, inplace=True)"
   ]
  },
  {
   "cell_type": "code",
   "execution_count": 22,
   "id": "6d8aaecf",
   "metadata": {
    "execution": {
     "iopub.execute_input": "2023-09-06T15:02:13.510463Z",
     "iopub.status.busy": "2023-09-06T15:02:13.510078Z",
     "iopub.status.idle": "2023-09-06T15:02:13.528619Z",
     "shell.execute_reply": "2023-09-06T15:02:13.527436Z"
    },
    "papermill": {
     "duration": 0.046507,
     "end_time": "2023-09-06T15:02:13.530956",
     "exception": false,
     "start_time": "2023-09-06T15:02:13.484449",
     "status": "completed"
    },
    "tags": []
   },
   "outputs": [
    {
     "data": {
      "text/html": [
       "<div>\n",
       "<style scoped>\n",
       "    .dataframe tbody tr th:only-of-type {\n",
       "        vertical-align: middle;\n",
       "    }\n",
       "\n",
       "    .dataframe tbody tr th {\n",
       "        vertical-align: top;\n",
       "    }\n",
       "\n",
       "    .dataframe thead th {\n",
       "        text-align: right;\n",
       "    }\n",
       "</style>\n",
       "<table border=\"1\" class=\"dataframe\">\n",
       "  <thead>\n",
       "    <tr style=\"text-align: right;\">\n",
       "      <th></th>\n",
       "      <th>Selling_Price</th>\n",
       "      <th>Present_Price</th>\n",
       "      <th>Kms_Driven</th>\n",
       "      <th>Fuel_Type</th>\n",
       "      <th>Seller_Type</th>\n",
       "      <th>Transmission</th>\n",
       "      <th>Owner</th>\n",
       "      <th>Current_year</th>\n",
       "      <th>No_year</th>\n",
       "    </tr>\n",
       "  </thead>\n",
       "  <tbody>\n",
       "    <tr>\n",
       "      <th>0</th>\n",
       "      <td>3.35</td>\n",
       "      <td>5.59</td>\n",
       "      <td>27000</td>\n",
       "      <td>Petrol</td>\n",
       "      <td>Dealer</td>\n",
       "      <td>Manual</td>\n",
       "      <td>0</td>\n",
       "      <td>2023</td>\n",
       "      <td>9</td>\n",
       "    </tr>\n",
       "    <tr>\n",
       "      <th>1</th>\n",
       "      <td>4.75</td>\n",
       "      <td>9.54</td>\n",
       "      <td>43000</td>\n",
       "      <td>Diesel</td>\n",
       "      <td>Dealer</td>\n",
       "      <td>Manual</td>\n",
       "      <td>0</td>\n",
       "      <td>2023</td>\n",
       "      <td>10</td>\n",
       "    </tr>\n",
       "    <tr>\n",
       "      <th>2</th>\n",
       "      <td>7.25</td>\n",
       "      <td>9.85</td>\n",
       "      <td>6900</td>\n",
       "      <td>Petrol</td>\n",
       "      <td>Dealer</td>\n",
       "      <td>Manual</td>\n",
       "      <td>0</td>\n",
       "      <td>2023</td>\n",
       "      <td>6</td>\n",
       "    </tr>\n",
       "    <tr>\n",
       "      <th>3</th>\n",
       "      <td>2.85</td>\n",
       "      <td>4.15</td>\n",
       "      <td>5200</td>\n",
       "      <td>Petrol</td>\n",
       "      <td>Dealer</td>\n",
       "      <td>Manual</td>\n",
       "      <td>0</td>\n",
       "      <td>2023</td>\n",
       "      <td>12</td>\n",
       "    </tr>\n",
       "    <tr>\n",
       "      <th>4</th>\n",
       "      <td>4.60</td>\n",
       "      <td>6.87</td>\n",
       "      <td>42450</td>\n",
       "      <td>Diesel</td>\n",
       "      <td>Dealer</td>\n",
       "      <td>Manual</td>\n",
       "      <td>0</td>\n",
       "      <td>2023</td>\n",
       "      <td>9</td>\n",
       "    </tr>\n",
       "  </tbody>\n",
       "</table>\n",
       "</div>"
      ],
      "text/plain": [
       "   Selling_Price  Present_Price  Kms_Driven Fuel_Type Seller_Type  \\\n",
       "0           3.35           5.59       27000    Petrol      Dealer   \n",
       "1           4.75           9.54       43000    Diesel      Dealer   \n",
       "2           7.25           9.85        6900    Petrol      Dealer   \n",
       "3           2.85           4.15        5200    Petrol      Dealer   \n",
       "4           4.60           6.87       42450    Diesel      Dealer   \n",
       "\n",
       "  Transmission  Owner  Current_year  No_year  \n",
       "0       Manual      0          2023        9  \n",
       "1       Manual      0          2023       10  \n",
       "2       Manual      0          2023        6  \n",
       "3       Manual      0          2023       12  \n",
       "4       Manual      0          2023        9  "
      ]
     },
     "execution_count": 22,
     "metadata": {},
     "output_type": "execute_result"
    }
   ],
   "source": [
    "final_dataset.head()"
   ]
  },
  {
   "cell_type": "markdown",
   "id": "f75a3407",
   "metadata": {
    "papermill": {
     "duration": 0.024148,
     "end_time": "2023-09-06T15:02:13.579533",
     "exception": false,
     "start_time": "2023-09-06T15:02:13.555385",
     "status": "completed"
    },
    "tags": []
   },
   "source": [
    "inplace=true, is used to delete it permanently from the final data."
   ]
  },
  {
   "cell_type": "code",
   "execution_count": 23,
   "id": "0b096847",
   "metadata": {
    "execution": {
     "iopub.execute_input": "2023-09-06T15:02:13.631359Z",
     "iopub.status.busy": "2023-09-06T15:02:13.630953Z",
     "iopub.status.idle": "2023-09-06T15:02:13.637467Z",
     "shell.execute_reply": "2023-09-06T15:02:13.636276Z"
    },
    "papermill": {
     "duration": 0.036314,
     "end_time": "2023-09-06T15:02:13.640129",
     "exception": false,
     "start_time": "2023-09-06T15:02:13.603815",
     "status": "completed"
    },
    "tags": []
   },
   "outputs": [],
   "source": [
    "final_dataset.drop(['Current_year'], axis=1, inplace=True)"
   ]
  },
  {
   "cell_type": "code",
   "execution_count": 24,
   "id": "6463a3b1",
   "metadata": {
    "execution": {
     "iopub.execute_input": "2023-09-06T15:02:13.691405Z",
     "iopub.status.busy": "2023-09-06T15:02:13.691003Z",
     "iopub.status.idle": "2023-09-06T15:02:13.705536Z",
     "shell.execute_reply": "2023-09-06T15:02:13.704727Z"
    },
    "papermill": {
     "duration": 0.04298,
     "end_time": "2023-09-06T15:02:13.707637",
     "exception": false,
     "start_time": "2023-09-06T15:02:13.664657",
     "status": "completed"
    },
    "tags": []
   },
   "outputs": [
    {
     "data": {
      "text/html": [
       "<div>\n",
       "<style scoped>\n",
       "    .dataframe tbody tr th:only-of-type {\n",
       "        vertical-align: middle;\n",
       "    }\n",
       "\n",
       "    .dataframe tbody tr th {\n",
       "        vertical-align: top;\n",
       "    }\n",
       "\n",
       "    .dataframe thead th {\n",
       "        text-align: right;\n",
       "    }\n",
       "</style>\n",
       "<table border=\"1\" class=\"dataframe\">\n",
       "  <thead>\n",
       "    <tr style=\"text-align: right;\">\n",
       "      <th></th>\n",
       "      <th>Selling_Price</th>\n",
       "      <th>Present_Price</th>\n",
       "      <th>Kms_Driven</th>\n",
       "      <th>Fuel_Type</th>\n",
       "      <th>Seller_Type</th>\n",
       "      <th>Transmission</th>\n",
       "      <th>Owner</th>\n",
       "      <th>No_year</th>\n",
       "    </tr>\n",
       "  </thead>\n",
       "  <tbody>\n",
       "    <tr>\n",
       "      <th>0</th>\n",
       "      <td>3.35</td>\n",
       "      <td>5.59</td>\n",
       "      <td>27000</td>\n",
       "      <td>Petrol</td>\n",
       "      <td>Dealer</td>\n",
       "      <td>Manual</td>\n",
       "      <td>0</td>\n",
       "      <td>9</td>\n",
       "    </tr>\n",
       "    <tr>\n",
       "      <th>1</th>\n",
       "      <td>4.75</td>\n",
       "      <td>9.54</td>\n",
       "      <td>43000</td>\n",
       "      <td>Diesel</td>\n",
       "      <td>Dealer</td>\n",
       "      <td>Manual</td>\n",
       "      <td>0</td>\n",
       "      <td>10</td>\n",
       "    </tr>\n",
       "    <tr>\n",
       "      <th>2</th>\n",
       "      <td>7.25</td>\n",
       "      <td>9.85</td>\n",
       "      <td>6900</td>\n",
       "      <td>Petrol</td>\n",
       "      <td>Dealer</td>\n",
       "      <td>Manual</td>\n",
       "      <td>0</td>\n",
       "      <td>6</td>\n",
       "    </tr>\n",
       "    <tr>\n",
       "      <th>3</th>\n",
       "      <td>2.85</td>\n",
       "      <td>4.15</td>\n",
       "      <td>5200</td>\n",
       "      <td>Petrol</td>\n",
       "      <td>Dealer</td>\n",
       "      <td>Manual</td>\n",
       "      <td>0</td>\n",
       "      <td>12</td>\n",
       "    </tr>\n",
       "    <tr>\n",
       "      <th>4</th>\n",
       "      <td>4.60</td>\n",
       "      <td>6.87</td>\n",
       "      <td>42450</td>\n",
       "      <td>Diesel</td>\n",
       "      <td>Dealer</td>\n",
       "      <td>Manual</td>\n",
       "      <td>0</td>\n",
       "      <td>9</td>\n",
       "    </tr>\n",
       "  </tbody>\n",
       "</table>\n",
       "</div>"
      ],
      "text/plain": [
       "   Selling_Price  Present_Price  Kms_Driven Fuel_Type Seller_Type  \\\n",
       "0           3.35           5.59       27000    Petrol      Dealer   \n",
       "1           4.75           9.54       43000    Diesel      Dealer   \n",
       "2           7.25           9.85        6900    Petrol      Dealer   \n",
       "3           2.85           4.15        5200    Petrol      Dealer   \n",
       "4           4.60           6.87       42450    Diesel      Dealer   \n",
       "\n",
       "  Transmission  Owner  No_year  \n",
       "0       Manual      0        9  \n",
       "1       Manual      0       10  \n",
       "2       Manual      0        6  \n",
       "3       Manual      0       12  \n",
       "4       Manual      0        9  "
      ]
     },
     "execution_count": 24,
     "metadata": {},
     "output_type": "execute_result"
    }
   ],
   "source": [
    "final_dataset.head()"
   ]
  },
  {
   "cell_type": "markdown",
   "id": "39b06c9c",
   "metadata": {
    "papermill": {
     "duration": 0.024783,
     "end_time": "2023-09-06T15:02:13.757813",
     "exception": false,
     "start_time": "2023-09-06T15:02:13.733030",
     "status": "completed"
    },
    "tags": []
   },
   "source": [
    "**Step5: Converting String valued columns in labels so model can be trained!\n",
    "using pandas,get_dummies function**"
   ]
  },
  {
   "cell_type": "code",
   "execution_count": 25,
   "id": "43fac1b8",
   "metadata": {
    "execution": {
     "iopub.execute_input": "2023-09-06T15:02:13.809798Z",
     "iopub.status.busy": "2023-09-06T15:02:13.809376Z",
     "iopub.status.idle": "2023-09-06T15:02:13.820117Z",
     "shell.execute_reply": "2023-09-06T15:02:13.818966Z"
    },
    "papermill": {
     "duration": 0.039801,
     "end_time": "2023-09-06T15:02:13.822765",
     "exception": false,
     "start_time": "2023-09-06T15:02:13.782964",
     "status": "completed"
    },
    "tags": []
   },
   "outputs": [],
   "source": [
    "final_dataset = pd.get_dummies(final_dataset, drop_first=True)"
   ]
  },
  {
   "cell_type": "code",
   "execution_count": 26,
   "id": "df53b963",
   "metadata": {
    "execution": {
     "iopub.execute_input": "2023-09-06T15:02:13.876085Z",
     "iopub.status.busy": "2023-09-06T15:02:13.875669Z",
     "iopub.status.idle": "2023-09-06T15:02:13.891321Z",
     "shell.execute_reply": "2023-09-06T15:02:13.890431Z"
    },
    "papermill": {
     "duration": 0.044915,
     "end_time": "2023-09-06T15:02:13.893677",
     "exception": false,
     "start_time": "2023-09-06T15:02:13.848762",
     "status": "completed"
    },
    "tags": []
   },
   "outputs": [
    {
     "data": {
      "text/html": [
       "<div>\n",
       "<style scoped>\n",
       "    .dataframe tbody tr th:only-of-type {\n",
       "        vertical-align: middle;\n",
       "    }\n",
       "\n",
       "    .dataframe tbody tr th {\n",
       "        vertical-align: top;\n",
       "    }\n",
       "\n",
       "    .dataframe thead th {\n",
       "        text-align: right;\n",
       "    }\n",
       "</style>\n",
       "<table border=\"1\" class=\"dataframe\">\n",
       "  <thead>\n",
       "    <tr style=\"text-align: right;\">\n",
       "      <th></th>\n",
       "      <th>Selling_Price</th>\n",
       "      <th>Present_Price</th>\n",
       "      <th>Kms_Driven</th>\n",
       "      <th>Owner</th>\n",
       "      <th>No_year</th>\n",
       "      <th>Fuel_Type_Diesel</th>\n",
       "      <th>Fuel_Type_Petrol</th>\n",
       "      <th>Seller_Type_Individual</th>\n",
       "      <th>Transmission_Manual</th>\n",
       "    </tr>\n",
       "  </thead>\n",
       "  <tbody>\n",
       "    <tr>\n",
       "      <th>0</th>\n",
       "      <td>3.35</td>\n",
       "      <td>5.59</td>\n",
       "      <td>27000</td>\n",
       "      <td>0</td>\n",
       "      <td>9</td>\n",
       "      <td>False</td>\n",
       "      <td>True</td>\n",
       "      <td>False</td>\n",
       "      <td>True</td>\n",
       "    </tr>\n",
       "    <tr>\n",
       "      <th>1</th>\n",
       "      <td>4.75</td>\n",
       "      <td>9.54</td>\n",
       "      <td>43000</td>\n",
       "      <td>0</td>\n",
       "      <td>10</td>\n",
       "      <td>True</td>\n",
       "      <td>False</td>\n",
       "      <td>False</td>\n",
       "      <td>True</td>\n",
       "    </tr>\n",
       "    <tr>\n",
       "      <th>2</th>\n",
       "      <td>7.25</td>\n",
       "      <td>9.85</td>\n",
       "      <td>6900</td>\n",
       "      <td>0</td>\n",
       "      <td>6</td>\n",
       "      <td>False</td>\n",
       "      <td>True</td>\n",
       "      <td>False</td>\n",
       "      <td>True</td>\n",
       "    </tr>\n",
       "    <tr>\n",
       "      <th>3</th>\n",
       "      <td>2.85</td>\n",
       "      <td>4.15</td>\n",
       "      <td>5200</td>\n",
       "      <td>0</td>\n",
       "      <td>12</td>\n",
       "      <td>False</td>\n",
       "      <td>True</td>\n",
       "      <td>False</td>\n",
       "      <td>True</td>\n",
       "    </tr>\n",
       "    <tr>\n",
       "      <th>4</th>\n",
       "      <td>4.60</td>\n",
       "      <td>6.87</td>\n",
       "      <td>42450</td>\n",
       "      <td>0</td>\n",
       "      <td>9</td>\n",
       "      <td>True</td>\n",
       "      <td>False</td>\n",
       "      <td>False</td>\n",
       "      <td>True</td>\n",
       "    </tr>\n",
       "  </tbody>\n",
       "</table>\n",
       "</div>"
      ],
      "text/plain": [
       "   Selling_Price  Present_Price  Kms_Driven  Owner  No_year  Fuel_Type_Diesel  \\\n",
       "0           3.35           5.59       27000      0        9             False   \n",
       "1           4.75           9.54       43000      0       10              True   \n",
       "2           7.25           9.85        6900      0        6             False   \n",
       "3           2.85           4.15        5200      0       12             False   \n",
       "4           4.60           6.87       42450      0        9              True   \n",
       "\n",
       "   Fuel_Type_Petrol  Seller_Type_Individual  Transmission_Manual  \n",
       "0              True                   False                 True  \n",
       "1             False                   False                 True  \n",
       "2              True                   False                 True  \n",
       "3              True                   False                 True  \n",
       "4             False                   False                 True  "
      ]
     },
     "execution_count": 26,
     "metadata": {},
     "output_type": "execute_result"
    }
   ],
   "source": [
    "final_dataset.head()"
   ]
  },
  {
   "cell_type": "code",
   "execution_count": 27,
   "id": "cc11df21",
   "metadata": {
    "execution": {
     "iopub.execute_input": "2023-09-06T15:02:13.945471Z",
     "iopub.status.busy": "2023-09-06T15:02:13.945059Z",
     "iopub.status.idle": "2023-09-06T15:02:13.965146Z",
     "shell.execute_reply": "2023-09-06T15:02:13.964321Z"
    },
    "papermill": {
     "duration": 0.048941,
     "end_time": "2023-09-06T15:02:13.967503",
     "exception": false,
     "start_time": "2023-09-06T15:02:13.918562",
     "status": "completed"
    },
    "tags": []
   },
   "outputs": [
    {
     "data": {
      "text/html": [
       "<div>\n",
       "<style scoped>\n",
       "    .dataframe tbody tr th:only-of-type {\n",
       "        vertical-align: middle;\n",
       "    }\n",
       "\n",
       "    .dataframe tbody tr th {\n",
       "        vertical-align: top;\n",
       "    }\n",
       "\n",
       "    .dataframe thead th {\n",
       "        text-align: right;\n",
       "    }\n",
       "</style>\n",
       "<table border=\"1\" class=\"dataframe\">\n",
       "  <thead>\n",
       "    <tr style=\"text-align: right;\">\n",
       "      <th></th>\n",
       "      <th>Selling_Price</th>\n",
       "      <th>Present_Price</th>\n",
       "      <th>Kms_Driven</th>\n",
       "      <th>Owner</th>\n",
       "      <th>No_year</th>\n",
       "      <th>Fuel_Type_Diesel</th>\n",
       "      <th>Fuel_Type_Petrol</th>\n",
       "      <th>Seller_Type_Individual</th>\n",
       "      <th>Transmission_Manual</th>\n",
       "    </tr>\n",
       "  </thead>\n",
       "  <tbody>\n",
       "    <tr>\n",
       "      <th>0</th>\n",
       "      <td>3.35</td>\n",
       "      <td>5.59</td>\n",
       "      <td>27000</td>\n",
       "      <td>0</td>\n",
       "      <td>9</td>\n",
       "      <td>False</td>\n",
       "      <td>True</td>\n",
       "      <td>False</td>\n",
       "      <td>True</td>\n",
       "    </tr>\n",
       "    <tr>\n",
       "      <th>1</th>\n",
       "      <td>4.75</td>\n",
       "      <td>9.54</td>\n",
       "      <td>43000</td>\n",
       "      <td>0</td>\n",
       "      <td>10</td>\n",
       "      <td>True</td>\n",
       "      <td>False</td>\n",
       "      <td>False</td>\n",
       "      <td>True</td>\n",
       "    </tr>\n",
       "    <tr>\n",
       "      <th>2</th>\n",
       "      <td>7.25</td>\n",
       "      <td>9.85</td>\n",
       "      <td>6900</td>\n",
       "      <td>0</td>\n",
       "      <td>6</td>\n",
       "      <td>False</td>\n",
       "      <td>True</td>\n",
       "      <td>False</td>\n",
       "      <td>True</td>\n",
       "    </tr>\n",
       "    <tr>\n",
       "      <th>3</th>\n",
       "      <td>2.85</td>\n",
       "      <td>4.15</td>\n",
       "      <td>5200</td>\n",
       "      <td>0</td>\n",
       "      <td>12</td>\n",
       "      <td>False</td>\n",
       "      <td>True</td>\n",
       "      <td>False</td>\n",
       "      <td>True</td>\n",
       "    </tr>\n",
       "    <tr>\n",
       "      <th>4</th>\n",
       "      <td>4.60</td>\n",
       "      <td>6.87</td>\n",
       "      <td>42450</td>\n",
       "      <td>0</td>\n",
       "      <td>9</td>\n",
       "      <td>True</td>\n",
       "      <td>False</td>\n",
       "      <td>False</td>\n",
       "      <td>True</td>\n",
       "    </tr>\n",
       "    <tr>\n",
       "      <th>...</th>\n",
       "      <td>...</td>\n",
       "      <td>...</td>\n",
       "      <td>...</td>\n",
       "      <td>...</td>\n",
       "      <td>...</td>\n",
       "      <td>...</td>\n",
       "      <td>...</td>\n",
       "      <td>...</td>\n",
       "      <td>...</td>\n",
       "    </tr>\n",
       "    <tr>\n",
       "      <th>296</th>\n",
       "      <td>9.50</td>\n",
       "      <td>11.60</td>\n",
       "      <td>33988</td>\n",
       "      <td>0</td>\n",
       "      <td>7</td>\n",
       "      <td>True</td>\n",
       "      <td>False</td>\n",
       "      <td>False</td>\n",
       "      <td>True</td>\n",
       "    </tr>\n",
       "    <tr>\n",
       "      <th>297</th>\n",
       "      <td>4.00</td>\n",
       "      <td>5.90</td>\n",
       "      <td>60000</td>\n",
       "      <td>0</td>\n",
       "      <td>8</td>\n",
       "      <td>False</td>\n",
       "      <td>True</td>\n",
       "      <td>False</td>\n",
       "      <td>True</td>\n",
       "    </tr>\n",
       "    <tr>\n",
       "      <th>298</th>\n",
       "      <td>3.35</td>\n",
       "      <td>11.00</td>\n",
       "      <td>87934</td>\n",
       "      <td>0</td>\n",
       "      <td>14</td>\n",
       "      <td>False</td>\n",
       "      <td>True</td>\n",
       "      <td>False</td>\n",
       "      <td>True</td>\n",
       "    </tr>\n",
       "    <tr>\n",
       "      <th>299</th>\n",
       "      <td>11.50</td>\n",
       "      <td>12.50</td>\n",
       "      <td>9000</td>\n",
       "      <td>0</td>\n",
       "      <td>6</td>\n",
       "      <td>True</td>\n",
       "      <td>False</td>\n",
       "      <td>False</td>\n",
       "      <td>True</td>\n",
       "    </tr>\n",
       "    <tr>\n",
       "      <th>300</th>\n",
       "      <td>5.30</td>\n",
       "      <td>5.90</td>\n",
       "      <td>5464</td>\n",
       "      <td>0</td>\n",
       "      <td>7</td>\n",
       "      <td>False</td>\n",
       "      <td>True</td>\n",
       "      <td>False</td>\n",
       "      <td>True</td>\n",
       "    </tr>\n",
       "  </tbody>\n",
       "</table>\n",
       "<p>301 rows × 9 columns</p>\n",
       "</div>"
      ],
      "text/plain": [
       "     Selling_Price  Present_Price  Kms_Driven  Owner  No_year  \\\n",
       "0             3.35           5.59       27000      0        9   \n",
       "1             4.75           9.54       43000      0       10   \n",
       "2             7.25           9.85        6900      0        6   \n",
       "3             2.85           4.15        5200      0       12   \n",
       "4             4.60           6.87       42450      0        9   \n",
       "..             ...            ...         ...    ...      ...   \n",
       "296           9.50          11.60       33988      0        7   \n",
       "297           4.00           5.90       60000      0        8   \n",
       "298           3.35          11.00       87934      0       14   \n",
       "299          11.50          12.50        9000      0        6   \n",
       "300           5.30           5.90        5464      0        7   \n",
       "\n",
       "     Fuel_Type_Diesel  Fuel_Type_Petrol  Seller_Type_Individual  \\\n",
       "0               False              True                   False   \n",
       "1                True             False                   False   \n",
       "2               False              True                   False   \n",
       "3               False              True                   False   \n",
       "4                True             False                   False   \n",
       "..                ...               ...                     ...   \n",
       "296              True             False                   False   \n",
       "297             False              True                   False   \n",
       "298             False              True                   False   \n",
       "299              True             False                   False   \n",
       "300             False              True                   False   \n",
       "\n",
       "     Transmission_Manual  \n",
       "0                   True  \n",
       "1                   True  \n",
       "2                   True  \n",
       "3                   True  \n",
       "4                   True  \n",
       "..                   ...  \n",
       "296                 True  \n",
       "297                 True  \n",
       "298                 True  \n",
       "299                 True  \n",
       "300                 True  \n",
       "\n",
       "[301 rows x 9 columns]"
      ]
     },
     "execution_count": 27,
     "metadata": {},
     "output_type": "execute_result"
    }
   ],
   "source": [
    "final_dataset"
   ]
  },
  {
   "cell_type": "markdown",
   "id": "b139d77b",
   "metadata": {
    "papermill": {
     "duration": 0.025269,
     "end_time": "2023-09-06T15:02:14.018541",
     "exception": false,
     "start_time": "2023-09-06T15:02:13.993272",
     "status": "completed"
    },
    "tags": []
   },
   "source": [
    "**Step6: Spliting of data into input and output.**"
   ]
  },
  {
   "cell_type": "code",
   "execution_count": 28,
   "id": "a578389b",
   "metadata": {
    "execution": {
     "iopub.execute_input": "2023-09-06T15:02:14.071589Z",
     "iopub.status.busy": "2023-09-06T15:02:14.071189Z",
     "iopub.status.idle": "2023-09-06T15:02:14.077146Z",
     "shell.execute_reply": "2023-09-06T15:02:14.075981Z"
    },
    "papermill": {
     "duration": 0.035058,
     "end_time": "2023-09-06T15:02:14.079438",
     "exception": false,
     "start_time": "2023-09-06T15:02:14.044380",
     "status": "completed"
    },
    "tags": []
   },
   "outputs": [],
   "source": [
    "X = final_dataset.iloc[:,1:]\n",
    "Y = final_dataset.iloc[:,0]"
   ]
  },
  {
   "cell_type": "markdown",
   "id": "cd4e9e15",
   "metadata": {
    "papermill": {
     "duration": 0.026129,
     "end_time": "2023-09-06T15:02:14.131138",
     "exception": false,
     "start_time": "2023-09-06T15:02:14.105009",
     "status": "completed"
    },
    "tags": []
   },
   "source": [
    "**Step7: Visualizing the final data.**"
   ]
  },
  {
   "cell_type": "code",
   "execution_count": 29,
   "id": "9d0ec14a",
   "metadata": {
    "execution": {
     "iopub.execute_input": "2023-09-06T15:02:14.184122Z",
     "iopub.status.busy": "2023-09-06T15:02:14.183764Z",
     "iopub.status.idle": "2023-09-06T15:02:15.059080Z",
     "shell.execute_reply": "2023-09-06T15:02:15.057844Z"
    },
    "papermill": {
     "duration": 0.905085,
     "end_time": "2023-09-06T15:02:15.061594",
     "exception": false,
     "start_time": "2023-09-06T15:02:14.156509",
     "status": "completed"
    },
    "tags": []
   },
   "outputs": [
    {
     "name": "stdout",
     "output_type": "stream",
     "text": [
      "[3.88060957e-01 3.80759799e-02 3.64405430e-04 8.27591927e-02\n",
      " 2.14013448e-01 1.55138150e-02 1.32982179e-01 1.28230022e-01]\n"
     ]
    }
   ],
   "source": [
    "# Feature importance\n",
    "from sklearn.ensemble import ExtraTreesRegressor\n",
    "model = ExtraTreesRegressor()\n",
    "model.fit(X,Y)\n",
    "print(model.feature_importances_)"
   ]
  },
  {
   "cell_type": "code",
   "execution_count": 30,
   "id": "dba2b636",
   "metadata": {
    "execution": {
     "iopub.execute_input": "2023-09-06T15:02:15.115643Z",
     "iopub.status.busy": "2023-09-06T15:02:15.115181Z",
     "iopub.status.idle": "2023-09-06T15:02:15.436399Z",
     "shell.execute_reply": "2023-09-06T15:02:15.435244Z"
    },
    "papermill": {
     "duration": 0.352594,
     "end_time": "2023-09-06T15:02:15.439587",
     "exception": false,
     "start_time": "2023-09-06T15:02:15.086993",
     "status": "completed"
    },
    "tags": []
   },
   "outputs": [
    {
     "data": {
      "image/png": "[encoded data removed]",
      "text/plain": [
       "<Figure size 640x480 with 1 Axes>"
      ]
     },
     "metadata": {},
     "output_type": "display_data"
    }
   ],
   "source": [
    "#ploting of feature importance using graph\n",
    "g = pd.Series(model.feature_importances_, index=X.columns)\n",
    "g.nlargest().plot(kind='barh')\n",
    "plt.show()"
   ]
  },
  {
   "cell_type": "code",
   "execution_count": 31,
   "id": "62fb3867",
   "metadata": {
    "execution": {
     "iopub.execute_input": "2023-09-06T15:02:15.498779Z",
     "iopub.status.busy": "2023-09-06T15:02:15.497781Z",
     "iopub.status.idle": "2023-09-06T15:02:15.513292Z",
     "shell.execute_reply": "2023-09-06T15:02:15.512116Z"
    },
    "papermill": {
     "duration": 0.049952,
     "end_time": "2023-09-06T15:02:15.515752",
     "exception": false,
     "start_time": "2023-09-06T15:02:15.465800",
     "status": "completed"
    },
    "tags": []
   },
   "outputs": [
    {
     "data": {
      "text/html": [
       "<div>\n",
       "<style scoped>\n",
       "    .dataframe tbody tr th:only-of-type {\n",
       "        vertical-align: middle;\n",
       "    }\n",
       "\n",
       "    .dataframe tbody tr th {\n",
       "        vertical-align: top;\n",
       "    }\n",
       "\n",
       "    .dataframe thead th {\n",
       "        text-align: right;\n",
       "    }\n",
       "</style>\n",
       "<table border=\"1\" class=\"dataframe\">\n",
       "  <thead>\n",
       "    <tr style=\"text-align: right;\">\n",
       "      <th></th>\n",
       "      <th>Present_Price</th>\n",
       "      <th>Kms_Driven</th>\n",
       "      <th>Owner</th>\n",
       "      <th>No_year</th>\n",
       "      <th>Fuel_Type_Diesel</th>\n",
       "      <th>Fuel_Type_Petrol</th>\n",
       "      <th>Seller_Type_Individual</th>\n",
       "      <th>Transmission_Manual</th>\n",
       "    </tr>\n",
       "  </thead>\n",
       "  <tbody>\n",
       "    <tr>\n",
       "      <th>0</th>\n",
       "      <td>5.59</td>\n",
       "      <td>27000</td>\n",
       "      <td>0</td>\n",
       "      <td>9</td>\n",
       "      <td>False</td>\n",
       "      <td>True</td>\n",
       "      <td>False</td>\n",
       "      <td>True</td>\n",
       "    </tr>\n",
       "    <tr>\n",
       "      <th>1</th>\n",
       "      <td>9.54</td>\n",
       "      <td>43000</td>\n",
       "      <td>0</td>\n",
       "      <td>10</td>\n",
       "      <td>True</td>\n",
       "      <td>False</td>\n",
       "      <td>False</td>\n",
       "      <td>True</td>\n",
       "    </tr>\n",
       "    <tr>\n",
       "      <th>2</th>\n",
       "      <td>9.85</td>\n",
       "      <td>6900</td>\n",
       "      <td>0</td>\n",
       "      <td>6</td>\n",
       "      <td>False</td>\n",
       "      <td>True</td>\n",
       "      <td>False</td>\n",
       "      <td>True</td>\n",
       "    </tr>\n",
       "    <tr>\n",
       "      <th>3</th>\n",
       "      <td>4.15</td>\n",
       "      <td>5200</td>\n",
       "      <td>0</td>\n",
       "      <td>12</td>\n",
       "      <td>False</td>\n",
       "      <td>True</td>\n",
       "      <td>False</td>\n",
       "      <td>True</td>\n",
       "    </tr>\n",
       "    <tr>\n",
       "      <th>4</th>\n",
       "      <td>6.87</td>\n",
       "      <td>42450</td>\n",
       "      <td>0</td>\n",
       "      <td>9</td>\n",
       "      <td>True</td>\n",
       "      <td>False</td>\n",
       "      <td>False</td>\n",
       "      <td>True</td>\n",
       "    </tr>\n",
       "  </tbody>\n",
       "</table>\n",
       "</div>"
      ],
      "text/plain": [
       "   Present_Price  Kms_Driven  Owner  No_year  Fuel_Type_Diesel  \\\n",
       "0           5.59       27000      0        9             False   \n",
       "1           9.54       43000      0       10              True   \n",
       "2           9.85        6900      0        6             False   \n",
       "3           4.15        5200      0       12             False   \n",
       "4           6.87       42450      0        9              True   \n",
       "\n",
       "   Fuel_Type_Petrol  Seller_Type_Individual  Transmission_Manual  \n",
       "0              True                   False                 True  \n",
       "1             False                   False                 True  \n",
       "2              True                   False                 True  \n",
       "3              True                   False                 True  \n",
       "4             False                   False                 True  "
      ]
     },
     "execution_count": 31,
     "metadata": {},
     "output_type": "execute_result"
    }
   ],
   "source": [
    "X.head()"
   ]
  },
  {
   "cell_type": "code",
   "execution_count": 32,
   "id": "df78dc91",
   "metadata": {
    "execution": {
     "iopub.execute_input": "2023-09-06T15:02:15.574380Z",
     "iopub.status.busy": "2023-09-06T15:02:15.573538Z",
     "iopub.status.idle": "2023-09-06T15:02:15.590203Z",
     "shell.execute_reply": "2023-09-06T15:02:15.589021Z"
    },
    "papermill": {
     "duration": 0.046896,
     "end_time": "2023-09-06T15:02:15.592712",
     "exception": false,
     "start_time": "2023-09-06T15:02:15.545816",
     "status": "completed"
    },
    "tags": []
   },
   "outputs": [
    {
     "data": {
      "text/html": [
       "<div>\n",
       "<style scoped>\n",
       "    .dataframe tbody tr th:only-of-type {\n",
       "        vertical-align: middle;\n",
       "    }\n",
       "\n",
       "    .dataframe tbody tr th {\n",
       "        vertical-align: top;\n",
       "    }\n",
       "\n",
       "    .dataframe thead th {\n",
       "        text-align: right;\n",
       "    }\n",
       "</style>\n",
       "<table border=\"1\" class=\"dataframe\">\n",
       "  <thead>\n",
       "    <tr style=\"text-align: right;\">\n",
       "      <th></th>\n",
       "      <th>Selling_Price</th>\n",
       "      <th>Present_Price</th>\n",
       "      <th>Kms_Driven</th>\n",
       "      <th>Owner</th>\n",
       "      <th>No_year</th>\n",
       "      <th>Fuel_Type_Diesel</th>\n",
       "      <th>Fuel_Type_Petrol</th>\n",
       "      <th>Seller_Type_Individual</th>\n",
       "      <th>Transmission_Manual</th>\n",
       "    </tr>\n",
       "  </thead>\n",
       "  <tbody>\n",
       "    <tr>\n",
       "      <th>0</th>\n",
       "      <td>3.35</td>\n",
       "      <td>5.59</td>\n",
       "      <td>27000</td>\n",
       "      <td>0</td>\n",
       "      <td>9</td>\n",
       "      <td>False</td>\n",
       "      <td>True</td>\n",
       "      <td>False</td>\n",
       "      <td>True</td>\n",
       "    </tr>\n",
       "    <tr>\n",
       "      <th>1</th>\n",
       "      <td>4.75</td>\n",
       "      <td>9.54</td>\n",
       "      <td>43000</td>\n",
       "      <td>0</td>\n",
       "      <td>10</td>\n",
       "      <td>True</td>\n",
       "      <td>False</td>\n",
       "      <td>False</td>\n",
       "      <td>True</td>\n",
       "    </tr>\n",
       "    <tr>\n",
       "      <th>2</th>\n",
       "      <td>7.25</td>\n",
       "      <td>9.85</td>\n",
       "      <td>6900</td>\n",
       "      <td>0</td>\n",
       "      <td>6</td>\n",
       "      <td>False</td>\n",
       "      <td>True</td>\n",
       "      <td>False</td>\n",
       "      <td>True</td>\n",
       "    </tr>\n",
       "    <tr>\n",
       "      <th>3</th>\n",
       "      <td>2.85</td>\n",
       "      <td>4.15</td>\n",
       "      <td>5200</td>\n",
       "      <td>0</td>\n",
       "      <td>12</td>\n",
       "      <td>False</td>\n",
       "      <td>True</td>\n",
       "      <td>False</td>\n",
       "      <td>True</td>\n",
       "    </tr>\n",
       "    <tr>\n",
       "      <th>4</th>\n",
       "      <td>4.60</td>\n",
       "      <td>6.87</td>\n",
       "      <td>42450</td>\n",
       "      <td>0</td>\n",
       "      <td>9</td>\n",
       "      <td>True</td>\n",
       "      <td>False</td>\n",
       "      <td>False</td>\n",
       "      <td>True</td>\n",
       "    </tr>\n",
       "  </tbody>\n",
       "</table>\n",
       "</div>"
      ],
      "text/plain": [
       "   Selling_Price  Present_Price  Kms_Driven  Owner  No_year  Fuel_Type_Diesel  \\\n",
       "0           3.35           5.59       27000      0        9             False   \n",
       "1           4.75           9.54       43000      0       10              True   \n",
       "2           7.25           9.85        6900      0        6             False   \n",
       "3           2.85           4.15        5200      0       12             False   \n",
       "4           4.60           6.87       42450      0        9              True   \n",
       "\n",
       "   Fuel_Type_Petrol  Seller_Type_Individual  Transmission_Manual  \n",
       "0              True                   False                 True  \n",
       "1             False                   False                 True  \n",
       "2              True                   False                 True  \n",
       "3              True                   False                 True  \n",
       "4             False                   False                 True  "
      ]
     },
     "execution_count": 32,
     "metadata": {},
     "output_type": "execute_result"
    }
   ],
   "source": [
    "final_dataset.head()"
   ]
  },
  {
   "cell_type": "code",
   "execution_count": 33,
   "id": "e993dd70",
   "metadata": {
    "execution": {
     "iopub.execute_input": "2023-09-06T15:02:15.665042Z",
     "iopub.status.busy": "2023-09-06T15:02:15.664336Z",
     "iopub.status.idle": "2023-09-06T15:02:15.681504Z",
     "shell.execute_reply": "2023-09-06T15:02:15.680359Z"
    },
    "papermill": {
     "duration": 0.0586,
     "end_time": "2023-09-06T15:02:15.684598",
     "exception": false,
     "start_time": "2023-09-06T15:02:15.625998",
     "status": "completed"
    },
    "tags": []
   },
   "outputs": [
    {
     "data": {
      "text/html": [
       "<div>\n",
       "<style scoped>\n",
       "    .dataframe tbody tr th:only-of-type {\n",
       "        vertical-align: middle;\n",
       "    }\n",
       "\n",
       "    .dataframe tbody tr th {\n",
       "        vertical-align: top;\n",
       "    }\n",
       "\n",
       "    .dataframe thead th {\n",
       "        text-align: right;\n",
       "    }\n",
       "</style>\n",
       "<table border=\"1\" class=\"dataframe\">\n",
       "  <thead>\n",
       "    <tr style=\"text-align: right;\">\n",
       "      <th></th>\n",
       "      <th>Present_Price</th>\n",
       "      <th>Kms_Driven</th>\n",
       "      <th>Owner</th>\n",
       "      <th>No_year</th>\n",
       "      <th>Fuel_Type_Diesel</th>\n",
       "      <th>Fuel_Type_Petrol</th>\n",
       "      <th>Seller_Type_Individual</th>\n",
       "      <th>Transmission_Manual</th>\n",
       "    </tr>\n",
       "  </thead>\n",
       "  <tbody>\n",
       "    <tr>\n",
       "      <th>0</th>\n",
       "      <td>5.59</td>\n",
       "      <td>27000</td>\n",
       "      <td>0</td>\n",
       "      <td>9</td>\n",
       "      <td>False</td>\n",
       "      <td>True</td>\n",
       "      <td>False</td>\n",
       "      <td>True</td>\n",
       "    </tr>\n",
       "    <tr>\n",
       "      <th>1</th>\n",
       "      <td>9.54</td>\n",
       "      <td>43000</td>\n",
       "      <td>0</td>\n",
       "      <td>10</td>\n",
       "      <td>True</td>\n",
       "      <td>False</td>\n",
       "      <td>False</td>\n",
       "      <td>True</td>\n",
       "    </tr>\n",
       "    <tr>\n",
       "      <th>2</th>\n",
       "      <td>9.85</td>\n",
       "      <td>6900</td>\n",
       "      <td>0</td>\n",
       "      <td>6</td>\n",
       "      <td>False</td>\n",
       "      <td>True</td>\n",
       "      <td>False</td>\n",
       "      <td>True</td>\n",
       "    </tr>\n",
       "    <tr>\n",
       "      <th>3</th>\n",
       "      <td>4.15</td>\n",
       "      <td>5200</td>\n",
       "      <td>0</td>\n",
       "      <td>12</td>\n",
       "      <td>False</td>\n",
       "      <td>True</td>\n",
       "      <td>False</td>\n",
       "      <td>True</td>\n",
       "    </tr>\n",
       "    <tr>\n",
       "      <th>4</th>\n",
       "      <td>6.87</td>\n",
       "      <td>42450</td>\n",
       "      <td>0</td>\n",
       "      <td>9</td>\n",
       "      <td>True</td>\n",
       "      <td>False</td>\n",
       "      <td>False</td>\n",
       "      <td>True</td>\n",
       "    </tr>\n",
       "  </tbody>\n",
       "</table>\n",
       "</div>"
      ],
      "text/plain": [
       "   Present_Price  Kms_Driven  Owner  No_year  Fuel_Type_Diesel  \\\n",
       "0           5.59       27000      0        9             False   \n",
       "1           9.54       43000      0       10              True   \n",
       "2           9.85        6900      0        6             False   \n",
       "3           4.15        5200      0       12             False   \n",
       "4           6.87       42450      0        9              True   \n",
       "\n",
       "   Fuel_Type_Petrol  Seller_Type_Individual  Transmission_Manual  \n",
       "0              True                   False                 True  \n",
       "1             False                   False                 True  \n",
       "2              True                   False                 True  \n",
       "3              True                   False                 True  \n",
       "4             False                   False                 True  "
      ]
     },
     "execution_count": 33,
     "metadata": {},
     "output_type": "execute_result"
    }
   ],
   "source": [
    "X.head()"
   ]
  },
  {
   "cell_type": "code",
   "execution_count": 34,
   "id": "4cf3239f",
   "metadata": {
    "execution": {
     "iopub.execute_input": "2023-09-06T15:02:15.745996Z",
     "iopub.status.busy": "2023-09-06T15:02:15.745587Z",
     "iopub.status.idle": "2023-09-06T15:02:15.754361Z",
     "shell.execute_reply": "2023-09-06T15:02:15.753188Z"
    },
    "papermill": {
     "duration": 0.039905,
     "end_time": "2023-09-06T15:02:15.756787",
     "exception": false,
     "start_time": "2023-09-06T15:02:15.716882",
     "status": "completed"
    },
    "tags": []
   },
   "outputs": [
    {
     "data": {
      "text/plain": [
       "0    3.35\n",
       "1    4.75\n",
       "2    7.25\n",
       "3    2.85\n",
       "4    4.60\n",
       "Name: Selling_Price, dtype: float64"
      ]
     },
     "execution_count": 34,
     "metadata": {},
     "output_type": "execute_result"
    }
   ],
   "source": [
    "Y.head()"
   ]
  },
  {
   "cell_type": "markdown",
   "id": "db98385c",
   "metadata": {
    "papermill": {
     "duration": 0.034481,
     "end_time": "2023-09-06T15:02:15.818710",
     "exception": false,
     "start_time": "2023-09-06T15:02:15.784229",
     "status": "completed"
    },
    "tags": []
   },
   "source": [
    "**Step8: Spliting the data into training and test and building model.**"
   ]
  },
  {
   "cell_type": "code",
   "execution_count": 35,
   "id": "6133808b",
   "metadata": {
    "execution": {
     "iopub.execute_input": "2023-09-06T15:02:15.884469Z",
     "iopub.status.busy": "2023-09-06T15:02:15.882768Z",
     "iopub.status.idle": "2023-09-06T15:02:15.892332Z",
     "shell.execute_reply": "2023-09-06T15:02:15.891121Z"
    },
    "papermill": {
     "duration": 0.042817,
     "end_time": "2023-09-06T15:02:15.894901",
     "exception": false,
     "start_time": "2023-09-06T15:02:15.852084",
     "status": "completed"
    },
    "tags": []
   },
   "outputs": [],
   "source": [
    "from sklearn.model_selection import train_test_split\n",
    "X_train, X_test, Y_train, Y_test = train_test_split(X,Y,test_size=0.2)"
   ]
  },
  {
   "cell_type": "code",
   "execution_count": 36,
   "id": "788530b9",
   "metadata": {
    "execution": {
     "iopub.execute_input": "2023-09-06T15:02:15.951324Z",
     "iopub.status.busy": "2023-09-06T15:02:15.950910Z",
     "iopub.status.idle": "2023-09-06T15:02:15.957251Z",
     "shell.execute_reply": "2023-09-06T15:02:15.956006Z"
    },
    "papermill": {
     "duration": 0.037416,
     "end_time": "2023-09-06T15:02:15.959686",
     "exception": false,
     "start_time": "2023-09-06T15:02:15.922270",
     "status": "completed"
    },
    "tags": []
   },
   "outputs": [
    {
     "name": "stdout",
     "output_type": "stream",
     "text": [
      "(240, 8)\n",
      "(240,)\n",
      "(61, 8)\n",
      "(61,)\n"
     ]
    }
   ],
   "source": [
    "print(X_train.shape)\n",
    "print(Y_train.shape)\n",
    "print(X_test.shape)\n",
    "print(Y_test.shape)"
   ]
  },
  {
   "cell_type": "markdown",
   "id": "5a9be49d",
   "metadata": {
    "papermill": {
     "duration": 0.02668,
     "end_time": "2023-09-06T15:02:16.013444",
     "exception": false,
     "start_time": "2023-09-06T15:02:15.986764",
     "status": "completed"
    },
    "tags": []
   },
   "source": [
    "# **Random forest Regressor Model**\n",
    "A random forest is a meta estimator that fits a number of classifying decision trees on various sub-samples of the dataset and uses averaging to improve the predictive accuracy and control over-fitting."
   ]
  },
  {
   "cell_type": "code",
   "execution_count": 37,
   "id": "1941e545",
   "metadata": {
    "execution": {
     "iopub.execute_input": "2023-09-06T15:02:16.069260Z",
     "iopub.status.busy": "2023-09-06T15:02:16.068886Z",
     "iopub.status.idle": "2023-09-06T15:02:16.073678Z",
     "shell.execute_reply": "2023-09-06T15:02:16.072544Z"
    },
    "papermill": {
     "duration": 0.035455,
     "end_time": "2023-09-06T15:02:16.076031",
     "exception": false,
     "start_time": "2023-09-06T15:02:16.040576",
     "status": "completed"
    },
    "tags": []
   },
   "outputs": [],
   "source": [
    "from sklearn.ensemble import RandomForestRegressor\n",
    "rf_random = RandomForestRegressor()\n"
   ]
  },
  {
   "cell_type": "code",
   "execution_count": 38,
   "id": "9e9a13c0",
   "metadata": {
    "execution": {
     "iopub.execute_input": "2023-09-06T15:02:16.133027Z",
     "iopub.status.busy": "2023-09-06T15:02:16.132627Z",
     "iopub.status.idle": "2023-09-06T15:02:16.400941Z",
     "shell.execute_reply": "2023-09-06T15:02:16.399733Z"
    },
    "papermill": {
     "duration": 0.300884,
     "end_time": "2023-09-06T15:02:16.403857",
     "exception": false,
     "start_time": "2023-09-06T15:02:16.102973",
     "status": "completed"
    },
    "tags": []
   },
   "outputs": [
    {
     "data": {
      "text/html": [
       "<style>#sk-container-id-1 {color: black;background-color: white;}#sk-container-id-1 pre{padding: 0;}#sk-container-id-1 div.sk-toggleable {background-color: white;}#sk-container-id-1 label.sk-toggleable__label {cursor: pointer;display: block;width: 100%;margin-bottom: 0;padding: 0.3em;box-sizing: border-box;text-align: center;}#sk-container-id-1 label.sk-toggleable__label-arrow:before {content: \"▸\";float: left;margin-right: 0.25em;color: #696969;}#sk-container-id-1 label.sk-toggleable__label-arrow:hover:before {color: black;}#sk-container-id-1 div.sk-estimator:hover label.sk-toggleable__label-arrow:before {color: black;}#sk-container-id-1 div.sk-toggleable__content {max-height: 0;max-width: 0;overflow: hidden;text-align: left;background-color: #f0f8ff;}#sk-container-id-1 div.sk-toggleable__content pre {margin: 0.2em;color: black;border-radius: 0.25em;background-color: #f0f8ff;}#sk-container-id-1 input.sk-toggleable__control:checked~div.sk-toggleable__content {max-height: 200px;max-width: 100%;overflow: auto;}#sk-container-id-1 input.sk-toggleable__control:checked~label.sk-toggleable__label-arrow:before {content: \"▾\";}#sk-container-id-1 div.sk-estimator input.sk-toggleable__control:checked~label.sk-toggleable__label {background-color: #d4ebff;}#sk-container-id-1 div.sk-label input.sk-toggleable__control:checked~label.sk-toggleable__label {background-color: #d4ebff;}#sk-container-id-1 input.sk-hidden--visually {border: 0;clip: rect(1px 1px 1px 1px);clip: rect(1px, 1px, 1px, 1px);height: 1px;margin: -1px;overflow: hidden;padding: 0;position: absolute;width: 1px;}#sk-container-id-1 div.sk-estimator {font-family: monospace;background-color: #f0f8ff;border: 1px dotted black;border-radius: 0.25em;box-sizing: border-box;margin-bottom: 0.5em;}#sk-container-id-1 div.sk-estimator:hover {background-color: #d4ebff;}#sk-container-id-1 div.sk-parallel-item::after {content: \"\";width: 100%;border-bottom: 1px solid gray;flex-grow: 1;}#sk-container-id-1 div.sk-label:hover label.sk-toggleable__label {background-color: #d4ebff;}#sk-container-id-1 div.sk-serial::before {content: \"\";position: absolute;border-left: 1px solid gray;box-sizing: border-box;top: 0;bottom: 0;left: 50%;z-index: 0;}#sk-container-id-1 div.sk-serial {display: flex;flex-direction: column;align-items: center;background-color: white;padding-right: 0.2em;padding-left: 0.2em;position: relative;}#sk-container-id-1 div.sk-item {position: relative;z-index: 1;}#sk-container-id-1 div.sk-parallel {display: flex;align-items: stretch;justify-content: center;background-color: white;position: relative;}#sk-container-id-1 div.sk-item::before, #sk-container-id-1 div.sk-parallel-item::before {content: \"\";position: absolute;border-left: 1px solid gray;box-sizing: border-box;top: 0;bottom: 0;left: 50%;z-index: -1;}#sk-container-id-1 div.sk-parallel-item {display: flex;flex-direction: column;z-index: 1;position: relative;background-color: white;}#sk-container-id-1 div.sk-parallel-item:first-child::after {align-self: flex-end;width: 50%;}#sk-container-id-1 div.sk-parallel-item:last-child::after {align-self: flex-start;width: 50%;}#sk-container-id-1 div.sk-parallel-item:only-child::after {width: 0;}#sk-container-id-1 div.sk-dashed-wrapped {border: 1px dashed gray;margin: 0 0.4em 0.5em 0.4em;box-sizing: border-box;padding-bottom: 0.4em;background-color: white;}#sk-container-id-1 div.sk-label label {font-family: monospace;font-weight: bold;display: inline-block;line-height: 1.2em;}#sk-container-id-1 div.sk-label-container {text-align: center;}#sk-container-id-1 div.sk-container {/* jupyter's `normalize.less` sets `[hidden] { display: none; }` but bootstrap.min.css set `[hidden] { display: none !important; }` so we also need the `!important` here to be able to override the default hidden behavior on the sphinx rendered scikit-learn.org. See: https://github.com/scikit-learn/scikit-learn/issues/21755 */display: inline-block !important;position: relative;}#sk-container-id-1 div.sk-text-repr-fallback {display: none;}</style><div id=\"sk-container-id-1\" class=\"sk-top-container\"><div class=\"sk-text-repr-fallback\"><pre>RandomForestRegressor()</pre><b>In a Jupyter environment, please rerun this cell to show the HTML representation or trust the notebook. <br />On GitHub, the HTML representation is unable to render, please try loading this page with nbviewer.org.</b></div><div class=\"sk-container\" hidden><div class=\"sk-item\"><div class=\"sk-estimator sk-toggleable\"><input class=\"sk-toggleable__control sk-hidden--visually\" id=\"sk-estimator-id-1\" type=\"checkbox\" checked><label for=\"sk-estimator-id-1\" class=\"sk-toggleable__label sk-toggleable__label-arrow\">RandomForestRegressor</label><div class=\"sk-toggleable__content\"><pre>RandomForestRegressor()</pre></div></div></div></div></div>"
      ],
      "text/plain": [
       "RandomForestRegressor()"
      ]
     },
     "execution_count": 38,
     "metadata": {},
     "output_type": "execute_result"
    }
   ],
   "source": [
    "rf_random.fit(X_train, Y_train)"
   ]
  },
  {
   "cell_type": "code",
   "execution_count": 39,
   "id": "9bb4de79",
   "metadata": {
    "execution": {
     "iopub.execute_input": "2023-09-06T15:02:16.461063Z",
     "iopub.status.busy": "2023-09-06T15:02:16.460671Z",
     "iopub.status.idle": "2023-09-06T15:02:16.478111Z",
     "shell.execute_reply": "2023-09-06T15:02:16.476704Z"
    },
    "papermill": {
     "duration": 0.049162,
     "end_time": "2023-09-06T15:02:16.480888",
     "exception": false,
     "start_time": "2023-09-06T15:02:16.431726",
     "status": "completed"
    },
    "tags": []
   },
   "outputs": [
    {
     "name": "stdout",
     "output_type": "stream",
     "text": [
      "27     0.7330\n",
      "46    -0.5885\n",
      "108    0.0276\n",
      "240    0.3096\n",
      "212    1.4579\n",
      "        ...  \n",
      "113    0.0375\n",
      "173   -0.0680\n",
      "246    0.4375\n",
      "207    0.5835\n",
      "281   -0.5280\n",
      "Name: Selling_Price, Length: 61, dtype: float64\n"
     ]
    }
   ],
   "source": [
    "results = rf_random.predict(X_test)\n",
    "diff = Y_test - results\n",
    "print(diff)"
   ]
  },
  {
   "cell_type": "code",
   "execution_count": 40,
   "id": "188ddcb1",
   "metadata": {
    "execution": {
     "iopub.execute_input": "2023-09-06T15:02:16.540405Z",
     "iopub.status.busy": "2023-09-06T15:02:16.539697Z",
     "iopub.status.idle": "2023-09-06T15:02:16.547131Z",
     "shell.execute_reply": "2023-09-06T15:02:16.545931Z"
    },
    "papermill": {
     "duration": 0.039703,
     "end_time": "2023-09-06T15:02:16.549443",
     "exception": false,
     "start_time": "2023-09-06T15:02:16.509740",
     "status": "completed"
    },
    "tags": []
   },
   "outputs": [
    {
     "data": {
      "text/plain": [
       "array([ 5.267 ,  3.2385,  1.1724,  5.0404,  9.7921,  5.221 ,  1.0754,\n",
       "        6.7977,  5.4793,  2.443 ,  2.901 ,  4.1184, 24.6375,  4.633 ,\n",
       "        0.453 ,  3.036 ,  0.7625,  2.8745,  0.5886,  1.9456,  0.2597,\n",
       "        5.5201, 16.645 ,  6.0718,  0.2359, 20.4494,  2.67  ,  1.1214,\n",
       "        2.5055,  6.6279,  1.1238,  0.4684,  5.3118, 15.6362,  6.8389,\n",
       "        0.7165, 23.3   ,  0.1929,  5.4685,  2.1965,  9.6426,  4.9915,\n",
       "        2.1095,  8.22  , 14.7504,  6.3028,  4.452 ,  3.2579,  3.477 ,\n",
       "        2.756 ,  4.204 ,  0.7541,  2.6506,  0.341 ,  0.5164,  7.109 ,\n",
       "        1.1125,  0.468 ,  3.3125,  4.5665,  2.628 ])"
      ]
     },
     "execution_count": 40,
     "metadata": {},
     "output_type": "execute_result"
    }
   ],
   "source": [
    "results"
   ]
  },
  {
   "cell_type": "markdown",
   "id": "59403456",
   "metadata": {
    "papermill": {
     "duration": 0.028366,
     "end_time": "2023-09-06T15:02:16.606154",
     "exception": false,
     "start_time": "2023-09-06T15:02:16.577788",
     "status": "completed"
    },
    "tags": []
   },
   "source": [
    "**Step9: Analying the error percentage using mae, mse, rmse and r2.**"
   ]
  },
  {
   "cell_type": "code",
   "execution_count": 41,
   "id": "61c20ec7",
   "metadata": {
    "execution": {
     "iopub.execute_input": "2023-09-06T15:02:16.665037Z",
     "iopub.status.busy": "2023-09-06T15:02:16.664142Z",
     "iopub.status.idle": "2023-09-06T15:02:16.673660Z",
     "shell.execute_reply": "2023-09-06T15:02:16.672433Z"
    },
    "papermill": {
     "duration": 0.041667,
     "end_time": "2023-09-06T15:02:16.676284",
     "exception": false,
     "start_time": "2023-09-06T15:02:16.634617",
     "status": "completed"
    },
    "tags": []
   },
   "outputs": [
    {
     "name": "stdout",
     "output_type": "stream",
     "text": [
      "MAE: 0.7107573770491806\n",
      "MSE: 1.3885080472131148\n",
      "RMSE: 1.1783497134607852\n",
      "R-squared (R²): 0.9463920021787018\n"
     ]
    }
   ],
   "source": [
    "from sklearn.linear_model import LinearRegression\n",
    "from sklearn.metrics import mean_absolute_error, mean_squared_error, r2_score\n",
    "import numpy as np\n",
    "\n",
    "# Calculate evaluation metrics\n",
    "mae = mean_absolute_error(Y_test, results)\n",
    "mse = mean_squared_error(Y_test, results)\n",
    "rmse = np.sqrt(mse)\n",
    "r2 = r2_score(Y_test, results)\n",
    "\n",
    "# Print the metrics\n",
    "print(f\"MAE: {mae}\")\n",
    "print(f\"MSE: {mse}\")\n",
    "print(f\"RMSE: {rmse}\")\n",
    "print(f\"R-squared (R²): {r2}\")"
   ]
  },
  {
   "cell_type": "markdown",
   "id": "3b2b99cc",
   "metadata": {
    "papermill": {
     "duration": 0.027649,
     "end_time": "2023-09-06T15:02:16.731907",
     "exception": false,
     "start_time": "2023-09-06T15:02:16.704258",
     "status": "completed"
    },
    "tags": []
   },
   "source": [
    "RandomForestRegressor(n_estimators=100, *, criterion=\"squared_error\", max_depth=None, min_samples_split=2, min_samples_leaf=1, min_weight_fraction_leaf=0.0, max_features=1.0, max_leaf_nodes=None, min_impurity_decrease=0.0, bootstrap=True, oob_score=False, n_jobs=None, random_state=None, verbose=0, warm_start=False, ccp_alpha=0.0, max_samples=None)\n",
    "A random forest regressor."
   ]
  },
  {
   "cell_type": "markdown",
   "id": "2e6053c5",
   "metadata": {
    "papermill": {
     "duration": 0.027722,
     "end_time": "2023-09-06T15:02:16.787988",
     "exception": false,
     "start_time": "2023-09-06T15:02:16.760266",
     "status": "completed"
    },
    "tags": []
   },
   "source": [
    "# **Linear Regression Model**"
   ]
  },
  {
   "cell_type": "code",
   "execution_count": 42,
   "id": "a0f8340b",
   "metadata": {
    "execution": {
     "iopub.execute_input": "2023-09-06T15:02:16.847259Z",
     "iopub.status.busy": "2023-09-06T15:02:16.846415Z",
     "iopub.status.idle": "2023-09-06T15:02:16.851840Z",
     "shell.execute_reply": "2023-09-06T15:02:16.850930Z"
    },
    "papermill": {
     "duration": 0.038209,
     "end_time": "2023-09-06T15:02:16.854380",
     "exception": false,
     "start_time": "2023-09-06T15:02:16.816171",
     "status": "completed"
    },
    "tags": []
   },
   "outputs": [],
   "source": [
    "from sklearn.linear_model import LinearRegression\n",
    "lr = LinearRegression()"
   ]
  },
  {
   "cell_type": "code",
   "execution_count": 43,
   "id": "7e9acab2",
   "metadata": {
    "execution": {
     "iopub.execute_input": "2023-09-06T15:02:16.912930Z",
     "iopub.status.busy": "2023-09-06T15:02:16.912529Z",
     "iopub.status.idle": "2023-09-06T15:02:16.943186Z",
     "shell.execute_reply": "2023-09-06T15:02:16.941989Z"
    },
    "papermill": {
     "duration": 0.062915,
     "end_time": "2023-09-06T15:02:16.945802",
     "exception": false,
     "start_time": "2023-09-06T15:02:16.882887",
     "status": "completed"
    },
    "tags": []
   },
   "outputs": [
    {
     "data": {
      "text/html": [
       "<style>#sk-container-id-2 {color: black;background-color: white;}#sk-container-id-2 pre{padding: 0;}#sk-container-id-2 div.sk-toggleable {background-color: white;}#sk-container-id-2 label.sk-toggleable__label {cursor: pointer;display: block;width: 100%;margin-bottom: 0;padding: 0.3em;box-sizing: border-box;text-align: center;}#sk-container-id-2 label.sk-toggleable__label-arrow:before {content: \"▸\";float: left;margin-right: 0.25em;color: #696969;}#sk-container-id-2 label.sk-toggleable__label-arrow:hover:before {color: black;}#sk-container-id-2 div.sk-estimator:hover label.sk-toggleable__label-arrow:before {color: black;}#sk-container-id-2 div.sk-toggleable__content {max-height: 0;max-width: 0;overflow: hidden;text-align: left;background-color: #f0f8ff;}#sk-container-id-2 div.sk-toggleable__content pre {margin: 0.2em;color: black;border-radius: 0.25em;background-color: #f0f8ff;}#sk-container-id-2 input.sk-toggleable__control:checked~div.sk-toggleable__content {max-height: 200px;max-width: 100%;overflow: auto;}#sk-container-id-2 input.sk-toggleable__control:checked~label.sk-toggleable__label-arrow:before {content: \"▾\";}#sk-container-id-2 div.sk-estimator input.sk-toggleable__control:checked~label.sk-toggleable__label {background-color: #d4ebff;}#sk-container-id-2 div.sk-label input.sk-toggleable__control:checked~label.sk-toggleable__label {background-color: #d4ebff;}#sk-container-id-2 input.sk-hidden--visually {border: 0;clip: rect(1px 1px 1px 1px);clip: rect(1px, 1px, 1px, 1px);height: 1px;margin: -1px;overflow: hidden;padding: 0;position: absolute;width: 1px;}#sk-container-id-2 div.sk-estimator {font-family: monospace;background-color: #f0f8ff;border: 1px dotted black;border-radius: 0.25em;box-sizing: border-box;margin-bottom: 0.5em;}#sk-container-id-2 div.sk-estimator:hover {background-color: #d4ebff;}#sk-container-id-2 div.sk-parallel-item::after {content: \"\";width: 100%;border-bottom: 1px solid gray;flex-grow: 1;}#sk-container-id-2 div.sk-label:hover label.sk-toggleable__label {background-color: #d4ebff;}#sk-container-id-2 div.sk-serial::before {content: \"\";position: absolute;border-left: 1px solid gray;box-sizing: border-box;top: 0;bottom: 0;left: 50%;z-index: 0;}#sk-container-id-2 div.sk-serial {display: flex;flex-direction: column;align-items: center;background-color: white;padding-right: 0.2em;padding-left: 0.2em;position: relative;}#sk-container-id-2 div.sk-item {position: relative;z-index: 1;}#sk-container-id-2 div.sk-parallel {display: flex;align-items: stretch;justify-content: center;background-color: white;position: relative;}#sk-container-id-2 div.sk-item::before, #sk-container-id-2 div.sk-parallel-item::before {content: \"\";position: absolute;border-left: 1px solid gray;box-sizing: border-box;top: 0;bottom: 0;left: 50%;z-index: -1;}#sk-container-id-2 div.sk-parallel-item {display: flex;flex-direction: column;z-index: 1;position: relative;background-color: white;}#sk-container-id-2 div.sk-parallel-item:first-child::after {align-self: flex-end;width: 50%;}#sk-container-id-2 div.sk-parallel-item:last-child::after {align-self: flex-start;width: 50%;}#sk-container-id-2 div.sk-parallel-item:only-child::after {width: 0;}#sk-container-id-2 div.sk-dashed-wrapped {border: 1px dashed gray;margin: 0 0.4em 0.5em 0.4em;box-sizing: border-box;padding-bottom: 0.4em;background-color: white;}#sk-container-id-2 div.sk-label label {font-family: monospace;font-weight: bold;display: inline-block;line-height: 1.2em;}#sk-container-id-2 div.sk-label-container {text-align: center;}#sk-container-id-2 div.sk-container {/* jupyter's `normalize.less` sets `[hidden] { display: none; }` but bootstrap.min.css set `[hidden] { display: none !important; }` so we also need the `!important` here to be able to override the default hidden behavior on the sphinx rendered scikit-learn.org. See: https://github.com/scikit-learn/scikit-learn/issues/21755 */display: inline-block !important;position: relative;}#sk-container-id-2 div.sk-text-repr-fallback {display: none;}</style><div id=\"sk-container-id-2\" class=\"sk-top-container\"><div class=\"sk-text-repr-fallback\"><pre>LinearRegression()</pre><b>In a Jupyter environment, please rerun this cell to show the HTML representation or trust the notebook. <br />On GitHub, the HTML representation is unable to render, please try loading this page with nbviewer.org.</b></div><div class=\"sk-container\" hidden><div class=\"sk-item\"><div class=\"sk-estimator sk-toggleable\"><input class=\"sk-toggleable__control sk-hidden--visually\" id=\"sk-estimator-id-2\" type=\"checkbox\" checked><label for=\"sk-estimator-id-2\" class=\"sk-toggleable__label sk-toggleable__label-arrow\">LinearRegression</label><div class=\"sk-toggleable__content\"><pre>LinearRegression()</pre></div></div></div></div></div>"
      ],
      "text/plain": [
       "LinearRegression()"
      ]
     },
     "execution_count": 43,
     "metadata": {},
     "output_type": "execute_result"
    }
   ],
   "source": [
    "lr.fit(X_train, Y_train)"
   ]
  },
  {
   "cell_type": "code",
   "execution_count": 44,
   "id": "a318c9e0",
   "metadata": {
    "execution": {
     "iopub.execute_input": "2023-09-06T15:02:17.006013Z",
     "iopub.status.busy": "2023-09-06T15:02:17.005626Z",
     "iopub.status.idle": "2023-09-06T15:02:17.012424Z",
     "shell.execute_reply": "2023-09-06T15:02:17.011571Z"
    },
    "papermill": {
     "duration": 0.039746,
     "end_time": "2023-09-06T15:02:17.014672",
     "exception": false,
     "start_time": "2023-09-06T15:02:16.974926",
     "status": "completed"
    },
    "tags": []
   },
   "outputs": [],
   "source": [
    "predictions = lr.predict(X_test)\n"
   ]
  },
  {
   "cell_type": "code",
   "execution_count": 45,
   "id": "0493d250",
   "metadata": {
    "execution": {
     "iopub.execute_input": "2023-09-06T15:02:17.072516Z",
     "iopub.status.busy": "2023-09-06T15:02:17.072125Z",
     "iopub.status.idle": "2023-09-06T15:02:17.076944Z",
     "shell.execute_reply": "2023-09-06T15:02:17.075810Z"
    },
    "papermill": {
     "duration": 0.036643,
     "end_time": "2023-09-06T15:02:17.079270",
     "exception": false,
     "start_time": "2023-09-06T15:02:17.042627",
     "status": "completed"
    },
    "tags": []
   },
   "outputs": [],
   "source": [
    "diff = Y_test - predictions"
   ]
  },
  {
   "cell_type": "code",
   "execution_count": 46,
   "id": "2c448d55",
   "metadata": {
    "execution": {
     "iopub.execute_input": "2023-09-06T15:02:17.137670Z",
     "iopub.status.busy": "2023-09-06T15:02:17.137286Z",
     "iopub.status.idle": "2023-09-06T15:02:17.143421Z",
     "shell.execute_reply": "2023-09-06T15:02:17.142285Z"
    },
    "papermill": {
     "duration": 0.039371,
     "end_time": "2023-09-06T15:02:17.146465",
     "exception": false,
     "start_time": "2023-09-06T15:02:17.107094",
     "status": "completed"
    },
    "tags": []
   },
   "outputs": [
    {
     "name": "stdout",
     "output_type": "stream",
     "text": [
      "27     1.899658\n",
      "46     0.025331\n",
      "108   -0.427210\n",
      "240   -1.761141\n",
      "212    3.165941\n",
      "         ...   \n",
      "113   -0.083349\n",
      "173   -3.265979\n",
      "246   -0.032356\n",
      "207   -0.836327\n",
      "281   -0.068465\n",
      "Name: Selling_Price, Length: 61, dtype: float64\n"
     ]
    }
   ],
   "source": [
    "print(diff)\n"
   ]
  },
  {
   "cell_type": "code",
   "execution_count": 47,
   "id": "6385ecec",
   "metadata": {
    "execution": {
     "iopub.execute_input": "2023-09-06T15:02:17.205012Z",
     "iopub.status.busy": "2023-09-06T15:02:17.204632Z",
     "iopub.status.idle": "2023-09-06T15:02:17.220175Z",
     "shell.execute_reply": "2023-09-06T15:02:17.219009Z"
    },
    "papermill": {
     "duration": 0.048059,
     "end_time": "2023-09-06T15:02:17.222557",
     "exception": false,
     "start_time": "2023-09-06T15:02:17.174498",
     "status": "completed"
    },
    "tags": []
   },
   "outputs": [
    {
     "data": {
      "text/html": [
       "<div>\n",
       "<style scoped>\n",
       "    .dataframe tbody tr th:only-of-type {\n",
       "        vertical-align: middle;\n",
       "    }\n",
       "\n",
       "    .dataframe tbody tr th {\n",
       "        vertical-align: top;\n",
       "    }\n",
       "\n",
       "    .dataframe thead th {\n",
       "        text-align: right;\n",
       "    }\n",
       "</style>\n",
       "<table border=\"1\" class=\"dataframe\">\n",
       "  <thead>\n",
       "    <tr style=\"text-align: right;\">\n",
       "      <th></th>\n",
       "      <th>Present_Price</th>\n",
       "      <th>Kms_Driven</th>\n",
       "      <th>Owner</th>\n",
       "      <th>No_year</th>\n",
       "      <th>Fuel_Type_Diesel</th>\n",
       "      <th>Fuel_Type_Petrol</th>\n",
       "      <th>Seller_Type_Individual</th>\n",
       "      <th>Transmission_Manual</th>\n",
       "    </tr>\n",
       "  </thead>\n",
       "  <tbody>\n",
       "    <tr>\n",
       "      <th>27</th>\n",
       "      <td>6.49</td>\n",
       "      <td>16200</td>\n",
       "      <td>0</td>\n",
       "      <td>6</td>\n",
       "      <td>False</td>\n",
       "      <td>True</td>\n",
       "      <td>True</td>\n",
       "      <td>True</td>\n",
       "    </tr>\n",
       "    <tr>\n",
       "      <th>46</th>\n",
       "      <td>4.89</td>\n",
       "      <td>64532</td>\n",
       "      <td>0</td>\n",
       "      <td>10</td>\n",
       "      <td>False</td>\n",
       "      <td>True</td>\n",
       "      <td>False</td>\n",
       "      <td>True</td>\n",
       "    </tr>\n",
       "    <tr>\n",
       "      <th>108</th>\n",
       "      <td>1.50</td>\n",
       "      <td>18000</td>\n",
       "      <td>0</td>\n",
       "      <td>7</td>\n",
       "      <td>False</td>\n",
       "      <td>True</td>\n",
       "      <td>True</td>\n",
       "      <td>True</td>\n",
       "    </tr>\n",
       "    <tr>\n",
       "      <th>240</th>\n",
       "      <td>9.40</td>\n",
       "      <td>32322</td>\n",
       "      <td>0</td>\n",
       "      <td>11</td>\n",
       "      <td>True</td>\n",
       "      <td>False</td>\n",
       "      <td>False</td>\n",
       "      <td>True</td>\n",
       "    </tr>\n",
       "    <tr>\n",
       "      <th>212</th>\n",
       "      <td>13.60</td>\n",
       "      <td>22671</td>\n",
       "      <td>0</td>\n",
       "      <td>7</td>\n",
       "      <td>False</td>\n",
       "      <td>True</td>\n",
       "      <td>False</td>\n",
       "      <td>True</td>\n",
       "    </tr>\n",
       "  </tbody>\n",
       "</table>\n",
       "</div>"
      ],
      "text/plain": [
       "     Present_Price  Kms_Driven  Owner  No_year  Fuel_Type_Diesel  \\\n",
       "27            6.49       16200      0        6             False   \n",
       "46            4.89       64532      0       10             False   \n",
       "108           1.50       18000      0        7             False   \n",
       "240           9.40       32322      0       11              True   \n",
       "212          13.60       22671      0        7             False   \n",
       "\n",
       "     Fuel_Type_Petrol  Seller_Type_Individual  Transmission_Manual  \n",
       "27               True                    True                 True  \n",
       "46               True                   False                 True  \n",
       "108              True                    True                 True  \n",
       "240             False                   False                 True  \n",
       "212              True                   False                 True  "
      ]
     },
     "execution_count": 47,
     "metadata": {},
     "output_type": "execute_result"
    }
   ],
   "source": [
    "X_test.head()"
   ]
  },
  {
   "cell_type": "code",
   "execution_count": 48,
   "id": "822d3fb1",
   "metadata": {
    "execution": {
     "iopub.execute_input": "2023-09-06T15:02:17.282370Z",
     "iopub.status.busy": "2023-09-06T15:02:17.281940Z",
     "iopub.status.idle": "2023-09-06T15:02:17.289011Z",
     "shell.execute_reply": "2023-09-06T15:02:17.288146Z"
    },
    "papermill": {
     "duration": 0.039865,
     "end_time": "2023-09-06T15:02:17.291397",
     "exception": false,
     "start_time": "2023-09-06T15:02:17.251532",
     "status": "completed"
    },
    "tags": []
   },
   "outputs": [
    {
     "data": {
      "text/plain": [
       "array([ 4.10034187,  2.62466853,  1.62721048,  7.11114138,  8.08405947,\n",
       "        4.27342319,  0.20350232,  9.0740068 ,  3.55020202,  2.03201445,\n",
       "        4.33476474,  7.66044875, 20.83562388,  4.59272999,  3.42112485,\n",
       "        3.57803518,  1.88370614,  4.26979077,  0.4973324 ,  2.67651699,\n",
       "        0.15818599, 10.34728964, 16.65566491,  7.2259542 , -0.80960181,\n",
       "       17.61585995,  3.03755063,  1.65345389,  4.08101822,  7.90962981,\n",
       "        1.36048825,  1.29381876,  5.00718232, 11.47078992,  8.866686  ,\n",
       "        1.55079158, 20.07267979, -9.08205503,  4.88438161,  4.44985869,\n",
       "        9.76634234,  6.31359675,  2.97884012,  8.04478211, 10.82981824,\n",
       "        8.74408504,  4.58910652,  3.6372169 ,  3.19835526,  3.00092631,\n",
       "        4.42202033,  1.74980232,  2.36665979,  0.49114607,  0.71324495,\n",
       "        8.23131198,  1.23334859,  3.6659791 ,  3.78235562,  5.98632692,\n",
       "        2.16846531])"
      ]
     },
     "execution_count": 48,
     "metadata": {},
     "output_type": "execute_result"
    }
   ],
   "source": [
    "predictions"
   ]
  },
  {
   "cell_type": "code",
   "execution_count": 49,
   "id": "347d8ea8",
   "metadata": {
    "execution": {
     "iopub.execute_input": "2023-09-06T15:02:17.351682Z",
     "iopub.status.busy": "2023-09-06T15:02:17.351280Z",
     "iopub.status.idle": "2023-09-06T15:02:17.360273Z",
     "shell.execute_reply": "2023-09-06T15:02:17.359011Z"
    },
    "papermill": {
     "duration": 0.041955,
     "end_time": "2023-09-06T15:02:17.362850",
     "exception": false,
     "start_time": "2023-09-06T15:02:17.320895",
     "status": "completed"
    },
    "tags": []
   },
   "outputs": [
    {
     "data": {
      "text/plain": [
       "27      6.00\n",
       "46      2.65\n",
       "108     1.20\n",
       "240     5.35\n",
       "212    11.25\n",
       "Name: Selling_Price, dtype: float64"
      ]
     },
     "execution_count": 49,
     "metadata": {},
     "output_type": "execute_result"
    }
   ],
   "source": [
    "Y_test.head()"
   ]
  },
  {
   "cell_type": "markdown",
   "id": "681a2e2f",
   "metadata": {
    "papermill": {
     "duration": 0.030011,
     "end_time": "2023-09-06T15:02:17.422183",
     "exception": false,
     "start_time": "2023-09-06T15:02:17.392172",
     "status": "completed"
    },
    "tags": []
   },
   "source": [
    "**Step9: Analying the error percentage using mae, mse, rmse and r2.**\n"
   ]
  },
  {
   "cell_type": "code",
   "execution_count": 50,
   "id": "ebd934f3",
   "metadata": {
    "execution": {
     "iopub.execute_input": "2023-09-06T15:02:17.483127Z",
     "iopub.status.busy": "2023-09-06T15:02:17.482733Z",
     "iopub.status.idle": "2023-09-06T15:02:17.493365Z",
     "shell.execute_reply": "2023-09-06T15:02:17.492152Z"
    },
    "papermill": {
     "duration": 0.044612,
     "end_time": "2023-09-06T15:02:17.496313",
     "exception": false,
     "start_time": "2023-09-06T15:02:17.451701",
     "status": "completed"
    },
    "tags": []
   },
   "outputs": [
    {
     "name": "stdout",
     "output_type": "stream",
     "text": [
      "MAE: 1.3837414437599151\n",
      "MSE: 4.989512169106765\n",
      "RMSE: 2.233721596149969\n",
      "R-squared (R²): 0.8073631924368945\n"
     ]
    }
   ],
   "source": [
    "from sklearn.linear_model import LinearRegression\n",
    "from sklearn.metrics import mean_absolute_error, mean_squared_error, r2_score\n",
    "import numpy as np\n",
    "\n",
    "# Calculate evaluation metrics\n",
    "mae = mean_absolute_error(Y_test, predictions)\n",
    "mse = mean_squared_error(Y_test, predictions)\n",
    "rmse = np.sqrt(mse)\n",
    "r2 = r2_score(Y_test, predictions)\n",
    "\n",
    "# Print the metrics\n",
    "print(f\"MAE: {mae}\")\n",
    "print(f\"MSE: {mse}\")\n",
    "print(f\"RMSE: {rmse}\")\n",
    "print(f\"R-squared (R²): {r2}\")\n",
    "\n",
    "\n",
    "\n",
    "\n",
    "\n"
   ]
  },
  {
   "cell_type": "markdown",
   "id": "e017e218",
   "metadata": {
    "papermill": {
     "duration": 0.028679,
     "end_time": "2023-09-06T15:02:17.553980",
     "exception": false,
     "start_time": "2023-09-06T15:02:17.525301",
     "status": "completed"
    },
    "tags": []
   },
   "source": [
    "Importing file to create a web app using the model"
   ]
  },
  {
   "cell_type": "code",
   "execution_count": 51,
   "id": "ddace45f",
   "metadata": {
    "execution": {
     "iopub.execute_input": "2023-09-06T15:02:17.614101Z",
     "iopub.status.busy": "2023-09-06T15:02:17.613713Z",
     "iopub.status.idle": "2023-09-06T15:02:17.619326Z",
     "shell.execute_reply": "2023-09-06T15:02:17.618242Z"
    },
    "papermill": {
     "duration": 0.039081,
     "end_time": "2023-09-06T15:02:17.621764",
     "exception": false,
     "start_time": "2023-09-06T15:02:17.582683",
     "status": "completed"
    },
    "tags": []
   },
   "outputs": [],
   "source": [
    "import pickle\n",
    "pickle.dump(lr,open('/kaggle/working/carpricemodel.sav', 'wb'))\n"
   ]
  },
  {
   "cell_type": "markdown",
   "id": "df092e19",
   "metadata": {
    "papermill": {
     "duration": 0.028926,
     "end_time": "2023-09-06T15:02:17.680550",
     "exception": false,
     "start_time": "2023-09-06T15:02:17.651624",
     "status": "completed"
    },
    "tags": []
   },
   "source": [
    "Used random forest regressor and linear regression algorithm to build a model to predict the price of a car with the given data which include present car price, age of car, diesel or petrol car, automatic or manual, no. of owners and the km already driven.\n",
    "Both the model gives almost same predictions/output.\n",
    "**Accuracy of RFR: 85%\n",
    "Accuracy of Linear Regression: 88%**\n"
   ]
  }
 ],
 "kernelspec": {
  "display_name": "Python 3",
  "language": "python",
  "name": "python3"
 },
 "language_info": {
  "codemirror_mode": {
   "name": "ipython",
   "version": 3
  },
  "file_extension": ".py",
  "mimetype": "text/x-python",
  "name": "python",
  "nbconvert_exporter": "python",
  "pygments_lexer": "ipython3",
  "version": "3.6.4"
 },
 "metadata": {
  "kernelspec": {
   "display_name": "Python 3",
   "language": "python",
   "name": "python3"
  },
  "language_info": {
   "codemirror_mode": {
    "name": "ipython",
    "version": 3
   },
   "file_extension": ".py",
   "mimetype": "text/x-python",
   "name": "python",
   "nbconvert_exporter": "python",
   "pygments_lexer": "ipython3",
   "version": "3.10.4"
  },
  "papermill": {
   "default_parameters": {},
   "duration": 12.251696,
   "end_time": "2023-09-06T15:02:18.331127",
   "environment_variables": {},
   "exception": null,
   "input_path": "__notebook__.ipynb",
   "output_path": "__notebook__.ipynb",
   "parameters": {},
   "start_time": "2023-09-06T15:02:06.079431",
   "version": "2.4.0"
  }
 },
 "nbformat": 4,
 "nbformat_minor": 5
}
